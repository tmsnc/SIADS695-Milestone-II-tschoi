{
 "cells": [
  {
   "cell_type": "markdown",
   "metadata": {
    "id": "EHMs1tCqCF2c"
   },
   "source": [
    "# UM SIADS 695 Project: Predicting text difficulty\n",
    "By Team 27: Thomson Choi (tschoi@umich.edu)"
   ]
  },
  {
   "cell_type": "markdown",
   "metadata": {
    "id": "NiFKIXFwCd2W"
   },
   "source": [
    "## Motivation\n",
    "The objective of the project is to predict the classification of whether a sentence needs simplification in order to improve the readability of Wikipedia articles.\n",
    "\n",
    "As described on the Kaggle page https://www.kaggle.com/c/umich-siads-695-predicting-text-difficulty, in order to make knowledge useable by learners of various age and education levels, it would be useful to identify articles or sentences which needs to be simplified so they can be consumed by more learners.  With a large labelled dataset provided, we hope to identify features in the training data from Wikipedia to accurately predict whether simplification is needed.\n",
    "\n",
    "## Data Source\n",
    "\n",
    "The project utilizes the Predicting text difficulty dataset provided at Kaggle: https://www.kaggle.com/c/umich-siads-695-predicting-text-difficulty\n",
    "\n",
    "The dataset contains:\n",
    "\n",
    "*   *WikiLarge_Train.csv* contains 417k entries of sentences from Wikipedia articles and also labelled for our target - whether the sentence needs simplification.  \n",
    "*   *WikiLarge_Test.csv* contains 119k entries of sentences to be predicted that can be submitted to Kaggle for an accuracy score leaderboard.\n",
    "*   *dale_chall.txt* contains 3000 words considered basic English.\n",
    "*   *Concreteness_ratings_Brysbaert_et_al_BRM.txt* contains concreteness ratings for 40k English lemma words gathered via Amazon Mechanical Turk.\n",
    "*   *AoA_51715_words.csv* contains \"Age of Acquisition\" (AoA) estimates for about 51k English words.\n",
    "\n",
    "All dataset are in csv of text format containing strings and integer labels which can be imported easily into Python to work with."
   ]
  },
  {
   "cell_type": "markdown",
   "metadata": {
    "id": "Udu0eaGsCrta"
   },
   "source": [
    "# Part A - Supervised Learning\n",
    "Motivation: The supervised part A will aim to achieve the classification goal with the training data with labels provided.\n",
    "\n",
    "Data Source: We will utilize the Data Source described in 1.2.\n",
    "\n",
    "## Methods and Evaluation\n",
    "\n",
    "**Feature representation**: The provided dataset contains one sentence on each row.  First we need to engineer features as inputs to the classifier.  An obvious starting point is to utilize sklearn CountVectorizer to represent the text as vectors of count of words in a bag-of-words model.  We can also include total numbers of characters and words. Stemming of words will be tried as well.\n",
    "\n",
    "**Methods**: To establish a baseline, I will first use a **Naive Bayes classifier** since it is speedy and can handle a large number of features efficiently (we have a large sparse matrix of words as input features).  Then I will experiment with various machine learning algorithms such as **Gradient Boosted Decision Trees** and **Multilayer Perceptron Neural Network**.  These algorithms take longer to train but I would expect them to achieve a higher accuracy.  \n",
    "\n",
    "**Evaluation Plan**: To evaluate accuracy, I will use Cross-validation on the training data for better generalization of metrix. I will employ GridSearch for parameter tuning as well.  Another metric would be F1 to evaluate generalizability of model.\n",
    "\n",
    "**Visualization**: We can potentially visualize the results by observing the feature importance ranking of words that appear the most in the class labeled needing simplification, indicating difficult words, and vice versa for the easy words.\n"
   ]
  },
  {
   "cell_type": "code",
   "execution_count": 1,
   "metadata": {
    "ExecuteTime": {
     "end_time": "2021-09-22T11:38:32.124933Z",
     "start_time": "2021-09-22T11:38:28.830357Z"
    },
    "executionInfo": {
     "elapsed": 2656,
     "status": "ok",
     "timestamp": 1632302032130,
     "user": {
      "displayName": "Thomson Choi",
      "photoUrl": "https://lh3.googleusercontent.com/a-/AOh14GijGo5A_JpQxt5NmDkapmn-FRmfqqEpQAVdH1Sq-Rw=s64",
      "userId": "08314397408289494396"
     },
     "user_tz": -480
    },
    "id": "uEAhOVePqbYe"
   },
   "outputs": [],
   "source": [
    "import pandas as pd\n",
    "import numpy as np\n",
    "from nltk.tokenize import word_tokenize\n",
    "from sklearn.feature_extraction.text import TfidfVectorizer, CountVectorizer\n",
    "import pickle\n",
    "import os"
   ]
  },
  {
   "cell_type": "code",
   "execution_count": 150,
   "metadata": {
    "ExecuteTime": {
     "end_time": "2021-09-23T11:41:02.011503Z",
     "start_time": "2021-09-23T11:41:01.994550Z"
    },
    "colab": {
     "base_uri": "https://localhost:8080/"
    },
    "executionInfo": {
     "elapsed": 8,
     "status": "ok",
     "timestamp": 1632302032133,
     "user": {
      "displayName": "Thomson Choi",
      "photoUrl": "https://lh3.googleusercontent.com/a-/AOh14GijGo5A_JpQxt5NmDkapmn-FRmfqqEpQAVdH1Sq-Rw=s64",
      "userId": "08314397408289494396"
     },
     "user_tz": -480
    },
    "id": "Dwa1Drj4sLSL",
    "outputId": "82319d19-8e4c-45b3-f32b-65b30b3fa837"
   },
   "outputs": [],
   "source": [
    "# Code to connect to Google Drive if working on Colab\n",
    "# from google.colab import drive\n",
    "# drive.mount('/content/gdrive')"
   ]
  },
  {
   "cell_type": "code",
   "execution_count": 151,
   "metadata": {
    "ExecuteTime": {
     "end_time": "2021-09-23T11:41:33.893227Z",
     "start_time": "2021-09-23T11:41:33.883255Z"
    },
    "executionInfo": {
     "elapsed": 5,
     "status": "ok",
     "timestamp": 1632302032134,
     "user": {
      "displayName": "Thomson Choi",
      "photoUrl": "https://lh3.googleusercontent.com/a-/AOh14GijGo5A_JpQxt5NmDkapmn-FRmfqqEpQAVdH1Sq-Rw=s64",
      "userId": "08314397408289494396"
     },
     "user_tz": -480
    },
    "id": "zjId9RW7tC_L"
   },
   "outputs": [],
   "source": [
    "# Code to connect to Google Drive if working on Colab\n",
    "# import sys\n",
    "# sys.path.append(\"/content/gdrive/MyDrive/3. UM MADS/2021 Summer/SIADS 694 695/kaggle\")\n",
    "# root_path = \"/content/gdrive/MyDrive/3. UM MADS/2021 Summer/SIADS 694 695/kaggle/\"\n",
    "\n",
    "root_path = \"./\""
   ]
  },
  {
   "cell_type": "markdown",
   "metadata": {
    "id": "Fa5wQ_sfqbYj"
   },
   "source": [
    "## Data Preparation"
   ]
  },
  {
   "cell_type": "code",
   "execution_count": 3,
   "metadata": {
    "ExecuteTime": {
     "end_time": "2021-09-22T11:39:19.011897Z",
     "start_time": "2021-09-22T11:39:18.482128Z"
    },
    "executionInfo": {
     "elapsed": 1944,
     "status": "ok",
     "timestamp": 1632302034073,
     "user": {
      "displayName": "Thomson Choi",
      "photoUrl": "https://lh3.googleusercontent.com/a-/AOh14GijGo5A_JpQxt5NmDkapmn-FRmfqqEpQAVdH1Sq-Rw=s64",
      "userId": "08314397408289494396"
     },
     "user_tz": -480
    },
    "id": "WzMGXtB2qbYj"
   },
   "outputs": [],
   "source": [
    "# Import Training data\n",
    "df = pd.read_csv(root_path + 'WikiLarge_Train.csv')"
   ]
  },
  {
   "cell_type": "markdown",
   "metadata": {
    "id": "THZD6c_rqbYl"
   },
   "source": [
    "### Stemming & Count Vectorizer\n",
    "Stemming will help to consolidate words with different tenses or grammatical variations but with same stem and therefore level of difficulty.\n",
    "\n",
    "We don't do lemmatization because that can alter the difficulty of words, as the word root will be altered. Someone who doesn't understand a word might understand its lemma.\n",
    "\n",
    "Method references:\n",
    "*   https://www.geeksforgeeks.org/snowball-stemmer-nlp/\n",
    "*   https://stackoverflow.com/questions/36182502/add-stemming-support-to-countvectorizer-sklearn\n",
    "\n",
    "Then we use Count Vectorizer to vectorize the counts of the stemmed words in each document.\n"
   ]
  },
  {
   "cell_type": "code",
   "execution_count": 4,
   "metadata": {
    "ExecuteTime": {
     "end_time": "2021-09-22T11:39:20.586714Z",
     "start_time": "2021-09-22T11:39:20.569760Z"
    },
    "executionInfo": {
     "elapsed": 9,
     "status": "ok",
     "timestamp": 1632302034075,
     "user": {
      "displayName": "Thomson Choi",
      "photoUrl": "https://lh3.googleusercontent.com/a-/AOh14GijGo5A_JpQxt5NmDkapmn-FRmfqqEpQAVdH1Sq-Rw=s64",
      "userId": "08314397408289494396"
     },
     "user_tz": -480
    },
    "id": "k0AepNl7qbYn"
   },
   "outputs": [],
   "source": [
    "from nltk.stem.snowball import EnglishStemmer\n",
    "import re\n",
    "\n",
    "stemmer = EnglishStemmer()\n",
    "\n",
    "class StemmedCountVectorizer(CountVectorizer):\n",
    "    def build_analyzer(self):\n",
    "        analyzer = super(StemmedCountVectorizer, self).build_analyzer()\n",
    "        return lambda doc: ([stemmer.stem(w) for w in analyzer(doc)])\n",
    "    \n",
    "# r”(?u)\\b\\w\\w+\\b”\n",
    "\n",
    "def preprocess_text(text):\n",
    "    text = text.lower()\n",
    "    text = re.sub(r'\\d+', '', text)\n",
    "    return text\n",
    "\n",
    "vectorizer_s = StemmedCountVectorizer(preprocessor=preprocess_text,\n",
    "                                      analyzer = 'word', \n",
    "                                       stop_words='english', \n",
    "                                       max_features=50000, \n",
    "                                       lowercase=True, \n",
    "                                       max_df=0.95,\n",
    "                                       min_df=10  # Eliminates a lot of words\n",
    "                                     ) \n"
   ]
  },
  {
   "cell_type": "code",
   "execution_count": 5,
   "metadata": {
    "ExecuteTime": {
     "end_time": "2021-09-22T11:39:21.415933Z",
     "start_time": "2021-09-22T11:39:21.226107Z"
    },
    "executionInfo": {
     "elapsed": 1295,
     "status": "ok",
     "timestamp": 1632302035363,
     "user": {
      "displayName": "Thomson Choi",
      "photoUrl": "https://lh3.googleusercontent.com/a-/AOh14GijGo5A_JpQxt5NmDkapmn-FRmfqqEpQAVdH1Sq-Rw=s64",
      "userId": "08314397408289494396"
     },
     "user_tz": -480
    },
    "id": "v24GM7w6qbYo"
   },
   "outputs": [],
   "source": [
    "# Load pretrained model and result\n",
    "\n",
    "if os.path.exists(root_path + 'res.pkl'):\n",
    "    res = pickle.load(open(root_path + 'res.pkl', 'rb'))\n",
    "else:\n",
    "    res = vectorizer_s.fit_transform(df['original_text'])\n",
    "    pickle.dump(res, open(root_path + 'res.pkl', 'wb'))\n",
    "\n",
    "if os.path.exists(root_path + 'vec_s.pkl'):\n",
    "    vec_s = pickle.load(open(root_path + 'vec_s.pkl', 'rb'))\n",
    "else:\n",
    "    res = vectorizer_s.fit_transform(df['original_text'])\n",
    "    pickle.dump(vectorizer_s, open(root_path + 'vec_s.pkl', 'wb'))"
   ]
  },
  {
   "cell_type": "markdown",
   "metadata": {
    "id": "fzZ6yBg1qbYp"
   },
   "source": [
    "### Explore Data sample"
   ]
  },
  {
   "cell_type": "code",
   "execution_count": 283,
   "metadata": {
    "ExecuteTime": {
     "end_time": "2021-09-24T16:08:44.888940Z",
     "start_time": "2021-09-24T16:08:44.869990Z"
    },
    "colab": {
     "base_uri": "https://localhost:8080/"
    },
    "executionInfo": {
     "elapsed": 8,
     "status": "ok",
     "timestamp": 1632302035363,
     "user": {
      "displayName": "Thomson Choi",
      "photoUrl": "https://lh3.googleusercontent.com/a-/AOh14GijGo5A_JpQxt5NmDkapmn-FRmfqqEpQAVdH1Sq-Rw=s64",
      "userId": "08314397408289494396"
     },
     "user_tz": -480
    },
    "id": "lC4IQqNsqbYp",
    "outputId": "6d9db162-f6f2-4b96-9060-6a26ab8f050d"
   },
   "outputs": [
    {
     "name": "stdout",
     "output_type": "stream",
     "text": [
      "doc-term matrix shape: (416768, 23953)\n",
      "doc-term matrix initial row:\n",
      "   (0, 183)\t1\n",
      "  (0, 836)\t1\n",
      "  (0, 1438)\t2\n",
      "  (0, 4649)\t1\n",
      "  (0, 6486)\t1\n",
      "  (0, 7096)\t1\n",
      "  (0, 10902)\t1\n",
      "  (0, 11981)\t2\n",
      "  (0, 13061)\t1\n",
      "  (0, 14650)\t1\n",
      "  (0, 14792)\t1\n",
      "  (0, 16132)\t1\n",
      "  (0, 16359)\t1\n",
      "  (0, 23502)\t1\n"
     ]
    }
   ],
   "source": [
    "print('doc-term matrix shape:', res.shape)\n",
    "print('doc-term matrix initial row:\\n', res[0])"
   ]
  },
  {
   "cell_type": "code",
   "execution_count": 7,
   "metadata": {
    "ExecuteTime": {
     "end_time": "2021-09-22T11:39:28.829625Z",
     "start_time": "2021-09-22T11:39:28.809678Z"
    },
    "colab": {
     "base_uri": "https://localhost:8080/"
    },
    "executionInfo": {
     "elapsed": 6,
     "status": "ok",
     "timestamp": 1632302035364,
     "user": {
      "displayName": "Thomson Choi",
      "photoUrl": "https://lh3.googleusercontent.com/a-/AOh14GijGo5A_JpQxt5NmDkapmn-FRmfqqEpQAVdH1Sq-Rw=s64",
      "userId": "08314397408289494396"
     },
     "user_tz": -480
    },
    "id": "zFL6JaaoqbYp",
    "outputId": "f57ba12e-9294-4609-d63e-dbf1f5727c38"
   },
   "outputs": [
    {
     "name": "stdout",
     "output_type": "stream",
     "text": [
      "# of features: 23953\n",
      "doc: There is manuscript evidence that Austen continued to work on these pieces as late as the period 1809 â '' 11 , and that her niece and nephew , Anna and James Edward Austen , made further additions as late as 1814 .\n",
      "sample terms:\n",
      "manuscript 1\n",
      "evid 1\n",
      "austen 2\n",
      "continu 1\n",
      "work 1\n",
      "piec 1\n",
      "late 2\n",
      "period 1\n",
      "niec 1\n",
      "nephew 1\n",
      "anna 1\n",
      "jame 1\n",
      "edward 1\n",
      "addit 1\n"
     ]
    }
   ],
   "source": [
    "feature_names = vec_s.get_feature_names()\n",
    "vocab = vec_s.vocabulary_\n",
    "\n",
    "print('# of features:', len(feature_names))\n",
    "print('doc:', df.iloc[0, 0])\n",
    "print('sample terms:')\n",
    "rows, cols = res[0].nonzero()\n",
    "for j in cols:\n",
    "    print(feature_names[j], res[0][0,j])"
   ]
  },
  {
   "cell_type": "markdown",
   "metadata": {
    "id": "1lLtIIDaqbYs"
   },
   "source": [
    "## Feature Engineering and External data\n"
   ]
  },
  {
   "cell_type": "markdown",
   "metadata": {
    "id": "7_F5PZKUqbY0"
   },
   "source": [
    "### Word Count\n",
    "We count the number of words in the document"
   ]
  },
  {
   "cell_type": "code",
   "execution_count": 8,
   "metadata": {
    "ExecuteTime": {
     "end_time": "2021-09-22T11:39:30.182008Z",
     "start_time": "2021-09-22T11:39:30.162061Z"
    },
    "executionInfo": {
     "elapsed": 4,
     "status": "ok",
     "timestamp": 1632302035364,
     "user": {
      "displayName": "Thomson Choi",
      "photoUrl": "https://lh3.googleusercontent.com/a-/AOh14GijGo5A_JpQxt5NmDkapmn-FRmfqqEpQAVdH1Sq-Rw=s64",
      "userId": "08314397408289494396"
     },
     "user_tz": -480
    },
    "id": "2tBYAGZlqbY0"
   },
   "outputs": [],
   "source": [
    "num_words = res.sum(axis=1)"
   ]
  },
  {
   "cell_type": "markdown",
   "metadata": {
    "id": "PDEiw_rpqbY0"
   },
   "source": [
    "### Character Count\n",
    "We count the number of characters in the doc."
   ]
  },
  {
   "cell_type": "code",
   "execution_count": 9,
   "metadata": {
    "ExecuteTime": {
     "end_time": "2021-09-22T11:39:30.941975Z",
     "start_time": "2021-09-22T11:39:30.857202Z"
    },
    "executionInfo": {
     "elapsed": 5,
     "status": "ok",
     "timestamp": 1632302035365,
     "user": {
      "displayName": "Thomson Choi",
      "photoUrl": "https://lh3.googleusercontent.com/a-/AOh14GijGo5A_JpQxt5NmDkapmn-FRmfqqEpQAVdH1Sq-Rw=s64",
      "userId": "08314397408289494396"
     },
     "user_tz": -480
    },
    "id": "HXOY_JO_qbY0"
   },
   "outputs": [],
   "source": [
    "# character count\n",
    "res_char_count = df['original_text'].map(len).to_numpy()\n",
    "res_char_count = res_char_count.reshape(-1,1)"
   ]
  },
  {
   "cell_type": "markdown",
   "metadata": {
    "id": "JdKClI102XCY"
   },
   "source": [
    "### External Data\n",
    "We import the external data as described in 1.2 Data Source."
   ]
  },
  {
   "cell_type": "code",
   "execution_count": 10,
   "metadata": {
    "ExecuteTime": {
     "end_time": "2021-09-22T11:39:32.182656Z",
     "start_time": "2021-09-22T11:39:32.050012Z"
    },
    "executionInfo": {
     "elapsed": 446,
     "status": "ok",
     "timestamp": 1632302035807,
     "user": {
      "displayName": "Thomson Choi",
      "photoUrl": "https://lh3.googleusercontent.com/a-/AOh14GijGo5A_JpQxt5NmDkapmn-FRmfqqEpQAVdH1Sq-Rw=s64",
      "userId": "08314397408289494396"
     },
     "user_tz": -480
    },
    "id": "cxl7RcGRqbYt"
   },
   "outputs": [],
   "source": [
    "# Dale Chall 3000 word list: simple words\n",
    "dc = pd.read_csv(root_path + 'dale_chall.txt', header=None)\n",
    "\n",
    "# Concreteness Ratings\n",
    "concr = pd.read_csv(root_path + 'Concreteness_ratings_Brysbaert_et_al_BRM.txt', sep='\\t')\n",
    "# Words are already Lemma\n",
    "concr = concr[['Word', 'Conc.M', 'Percent_known']]\n",
    "\n",
    "# Age of Acquisition\n",
    "aoa = pd.read_csv(root_path + 'AoA_51715_words.csv', encoding = \"ISO-8859-1\")\n",
    "aoa = aoa[['Word', 'AoA_Kup_lem']]"
   ]
  },
  {
   "cell_type": "markdown",
   "metadata": {
    "id": "AswG8-cJqbYv"
   },
   "source": [
    "**Feature engineering from External Data**\n",
    "\n",
    "For each feature word, we need to have a matrix to get:\n",
    "* one hot for Dale Chall vector\n",
    "* concreteness score vector\n",
    "* AoA vector\n",
    "\n",
    "New feature can be obtained by multiplying word feature sparse matrix with these vectors and to obtain new features that is a summary of the word features' characteristics based on these external data. For example, how many words are in Dale Chall list, what is the weighted Concreteness rating and the weighted Age of Acquisition by the words in the document."
   ]
  },
  {
   "cell_type": "markdown",
   "metadata": {
    "id": "REQoo_OOqbYw"
   },
   "source": [
    "##### Dale-Chall (One-Hot)"
   ]
  },
  {
   "cell_type": "code",
   "execution_count": 11,
   "metadata": {
    "ExecuteTime": {
     "end_time": "2021-09-22T11:39:36.685612Z",
     "start_time": "2021-09-22T11:39:35.746125Z"
    },
    "colab": {
     "base_uri": "https://localhost:8080/"
    },
    "executionInfo": {
     "elapsed": 1830,
     "status": "ok",
     "timestamp": 1632302037634,
     "user": {
      "displayName": "Thomson Choi",
      "photoUrl": "https://lh3.googleusercontent.com/a-/AOh14GijGo5A_JpQxt5NmDkapmn-FRmfqqEpQAVdH1Sq-Rw=s64",
      "userId": "08314397408289494396"
     },
     "user_tz": -480
    },
    "id": "bAR6mvhcqbYw",
    "outputId": "06f1c42f-360d-424f-e2aa-f2e531ea3e3d"
   },
   "outputs": [
    {
     "name": "stdout",
     "output_type": "stream",
     "text": [
      "There are 2305 words that are in Dale-Chall list, out of 23953 words in the training data\n"
     ]
    }
   ],
   "source": [
    "dc_vec = np.ndarray((len(feature_names),1))\n",
    "stemmed_dc = dc[0].map(stemmer.stem)\n",
    "for i in range(len(stemmed_dc)):\n",
    "    stemmed_dc[i] = re.sub(r' ', '', stemmed_dc[i])\n",
    "\n",
    "for i in range(len(feature_names)):\n",
    "    if feature_names[i] in stemmed_dc.tolist():\n",
    "        dc_vec[i] = 1\n",
    "    else:\n",
    "        dc_vec[i] = 0\n",
    "\n",
    "print('There are', str(dc_vec[dc_vec==1].shape[0]), 'words that are in Dale-Chall list, out of', res.shape[1], 'words in the training data')"
   ]
  },
  {
   "cell_type": "markdown",
   "metadata": {
    "id": "TQubdL0dqbYx"
   },
   "source": [
    "##### Concreteness"
   ]
  },
  {
   "cell_type": "code",
   "execution_count": 12,
   "metadata": {
    "ExecuteTime": {
     "end_time": "2021-09-22T11:39:38.479813Z",
     "start_time": "2021-09-22T11:39:37.706881Z"
    },
    "colab": {
     "base_uri": "https://localhost:8080/"
    },
    "executionInfo": {
     "elapsed": 1185,
     "status": "ok",
     "timestamp": 1632302038816,
     "user": {
      "displayName": "Thomson Choi",
      "photoUrl": "https://lh3.googleusercontent.com/a-/AOh14GijGo5A_JpQxt5NmDkapmn-FRmfqqEpQAVdH1Sq-Rw=s64",
      "userId": "08314397408289494396"
     },
     "user_tz": -480
    },
    "id": "_fmkc41-qbYx",
    "outputId": "e5542951-684e-480c-dcaa-2759ee49ef24"
   },
   "outputs": [
    {
     "name": "stdout",
     "output_type": "stream",
     "text": [
      "Mean concreteness rating of the words:  3.243044319902238\n",
      "Percent of people who knew the word:  0.9632478617871354\n"
     ]
    }
   ],
   "source": [
    "concr_stemmed = concr['Word'].astype(str).map(stemmer.stem)\n",
    "for i in range(len(concr_stemmed)):\n",
    "    concr_stemmed[i] = re.sub(r' ', '', concr_stemmed[i])\n",
    "\n",
    "concr['word_stemmed'] = concr_stemmed\n",
    "concr = concr.set_index('word_stemmed').drop('Word', axis=1)\n",
    "\n",
    "# There are dupe stems once stemmed\n",
    "concr=concr.groupby(concr.index).agg(np.mean)\n",
    "print('Mean concreteness rating of the words: ', concr['Conc.M'].mean())\n",
    "print('Percent of people who knew the word: ', concr['Percent_known'].mean())"
   ]
  },
  {
   "cell_type": "markdown",
   "metadata": {
    "id": "R9hqHC4q0vJt"
   },
   "source": [
    "We fill in missing data: when a word does not have a concreteness rating or percent of people who knew the word, we fill the mean of the data set as the value for that word feature."
   ]
  },
  {
   "cell_type": "code",
   "execution_count": 284,
   "metadata": {
    "ExecuteTime": {
     "end_time": "2021-09-24T16:11:48.872355Z",
     "start_time": "2021-09-24T16:11:46.535607Z"
    },
    "colab": {
     "base_uri": "https://localhost:8080/"
    },
    "executionInfo": {
     "elapsed": 4063,
     "status": "ok",
     "timestamp": 1632302042876,
     "user": {
      "displayName": "Thomson Choi",
      "photoUrl": "https://lh3.googleusercontent.com/a-/AOh14GijGo5A_JpQxt5NmDkapmn-FRmfqqEpQAVdH1Sq-Rw=s64",
      "userId": "08314397408289494396"
     },
     "user_tz": -480
    },
    "id": "wHEVP-DQqbYx",
    "outputId": "ba063d3f-378c-4347-d5eb-8eb50a98de02"
   },
   "outputs": [
    {
     "name": "stdout",
     "output_type": "stream",
     "text": [
      "Check the means : [3.26256425 0.96853254]\n"
     ]
    }
   ],
   "source": [
    "concr_vec = np.ndarray((len(feature_names),2))\n",
    "\n",
    "for i in range(len(feature_names)):\n",
    "    try:\n",
    "        concr_vec[i, 0] = concr.loc[feature_names[i], 'Conc.M']\n",
    "    except:\n",
    "        concr_vec[i, 0] = concr['Conc.M'].mean()\n",
    "    try:\n",
    "        concr_vec[i, 1] = concr.loc[feature_names[i], 'Percent_known']\n",
    "    except:\n",
    "        concr_vec[i, 1] = concr['Percent_known'].mean()\n",
    "print('Check the means :', concr_vec.mean(axis=0))"
   ]
  },
  {
   "cell_type": "markdown",
   "metadata": {
    "id": "RQbQXyexqbYy"
   },
   "source": [
    "##### Age of Acquisition"
   ]
  },
  {
   "cell_type": "code",
   "execution_count": 15,
   "metadata": {
    "ExecuteTime": {
     "end_time": "2021-09-22T11:40:08.069667Z",
     "start_time": "2021-09-22T11:40:06.064031Z"
    },
    "colab": {
     "base_uri": "https://localhost:8080/"
    },
    "executionInfo": {
     "elapsed": 3462,
     "status": "ok",
     "timestamp": 1632302046336,
     "user": {
      "displayName": "Thomson Choi",
      "photoUrl": "https://lh3.googleusercontent.com/a-/AOh14GijGo5A_JpQxt5NmDkapmn-FRmfqqEpQAVdH1Sq-Rw=s64",
      "userId": "08314397408289494396"
     },
     "user_tz": -480
    },
    "id": "y9MTbAYXqbYy",
    "outputId": "38d89491-0bcb-407d-d693-55c3eb133049"
   },
   "outputs": [
    {
     "name": "stdout",
     "output_type": "stream",
     "text": [
      "Mean age of acquisition: [10.36053538]\n"
     ]
    }
   ],
   "source": [
    "aoa_stemmed = aoa['Word'].astype(str).map(stemmer.stem)\n",
    "for i in range(len(aoa_stemmed)):\n",
    "    aoa_stemmed[i] = re.sub(r' ', '', aoa_stemmed[i])\n",
    "\n",
    "aoa['word_stemmed'] = aoa_stemmed\n",
    "aoa = aoa.set_index('word_stemmed').drop('Word', axis=1)\n",
    "\n",
    "# There are dupe stems once stemmed\n",
    "aoa=aoa.groupby(aoa.index).agg(np.mean)\n",
    "aoa_vec = np.ndarray((len(feature_names),1))\n",
    "\n",
    "for i in range(len(feature_names)):\n",
    "    try:\n",
    "        aoa_vec[i, 0] = aoa.loc[feature_names[i], 'AoA_Kup_lem']\n",
    "    except:\n",
    "        aoa_vec[i, 0] = aoa['AoA_Kup_lem'].mean()\n",
    "\n",
    "print('Mean age of acquisition:', aoa_vec.mean(axis=0))"
   ]
  },
  {
   "cell_type": "markdown",
   "metadata": {
    "id": "ATP1aPeDqbYz"
   },
   "source": [
    "### Combine Features into Features Matrix"
   ]
  },
  {
   "cell_type": "code",
   "execution_count": 285,
   "metadata": {
    "ExecuteTime": {
     "end_time": "2021-09-24T16:12:42.879482Z",
     "start_time": "2021-09-24T16:12:42.583275Z"
    },
    "colab": {
     "base_uri": "https://localhost:8080/"
    },
    "executionInfo": {
     "elapsed": 430,
     "status": "ok",
     "timestamp": 1632302046758,
     "user": {
      "displayName": "Thomson Choi",
      "photoUrl": "https://lh3.googleusercontent.com/a-/AOh14GijGo5A_JpQxt5NmDkapmn-FRmfqqEpQAVdH1Sq-Rw=s64",
      "userId": "08314397408289494396"
     },
     "user_tz": -480
    },
    "id": "rPoxjrESqbY0",
    "outputId": "db9d4dca-f593-4ed9-ed12-90e4f725547d"
   },
   "outputs": [
    {
     "data": {
      "text/plain": [
       "<416768x23959 sparse matrix of type '<class 'numpy.float64'>'\n",
       "\twith 6243849 stored elements in COOrdinate format>"
      ]
     },
     "execution_count": 285,
     "metadata": {},
     "output_type": "execute_result"
    }
   ],
   "source": [
    "import warnings\n",
    "warnings.filterwarnings('ignore')\n",
    "\n",
    "# add word count and char counts\n",
    "from scipy.sparse import hstack\n",
    "X = hstack((res, num_words, res_char_count, \n",
    "            np.nan_to_num(res @ dc_vec / num_words, nan=0),\n",
    "            np.nan_to_num(res @ concr_vec / num_words, nan=0),\n",
    "            np.nan_to_num(res @ aoa_vec / num_words, nan=0)))\n",
    "X"
   ]
  },
  {
   "cell_type": "markdown",
   "metadata": {
    "id": "vIeiY8s-8rfB"
   },
   "source": [
    "## Supervised Learning Methods"
   ]
  },
  {
   "cell_type": "markdown",
   "metadata": {
    "id": "15XFN0ilqbYq"
   },
   "source": [
    "### Naive Bayes\n",
    "We use Multinomial Naive Bayes model to set a base line of accuracy to be achieved by the Count Vectorizer input features.\n"
   ]
  },
  {
   "cell_type": "code",
   "execution_count": 17,
   "metadata": {
    "ExecuteTime": {
     "end_time": "2021-09-22T11:40:23.660964Z",
     "start_time": "2021-09-22T11:40:23.642015Z"
    },
    "executionInfo": {
     "elapsed": 6,
     "status": "ok",
     "timestamp": 1632302046759,
     "user": {
      "displayName": "Thomson Choi",
      "photoUrl": "https://lh3.googleusercontent.com/a-/AOh14GijGo5A_JpQxt5NmDkapmn-FRmfqqEpQAVdH1Sq-Rw=s64",
      "userId": "08314397408289494396"
     },
     "user_tz": -480
    },
    "id": "yZttheUjqbYq"
   },
   "outputs": [],
   "source": [
    "from sklearn.model_selection import train_test_split\n",
    "from sklearn.naive_bayes import MultinomialNB\n",
    "\n",
    "y = df['label']\n",
    "def MN_naive_bayes(X, y):\n",
    "    X_train, X_test, y_train, y_test = train_test_split(X, y, random_state=0)\n",
    "    nbclf = MultinomialNB().fit(X_train, y_train)\n",
    "    print('train score:', round(nbclf.score(X_train, y_train),4))\n",
    "    print('test score:', round(nbclf.score(X_test, y_test),4))\n",
    "    return nbclf"
   ]
  },
  {
   "cell_type": "code",
   "execution_count": 18,
   "metadata": {
    "ExecuteTime": {
     "end_time": "2021-09-22T11:40:24.651315Z",
     "start_time": "2021-09-22T11:40:24.474787Z"
    },
    "colab": {
     "base_uri": "https://localhost:8080/"
    },
    "executionInfo": {
     "elapsed": 246,
     "status": "ok",
     "timestamp": 1632302047000,
     "user": {
      "displayName": "Thomson Choi",
      "photoUrl": "https://lh3.googleusercontent.com/a-/AOh14GijGo5A_JpQxt5NmDkapmn-FRmfqqEpQAVdH1Sq-Rw=s64",
      "userId": "08314397408289494396"
     },
     "user_tz": -480
    },
    "id": "GzBXcQtLqbYr",
    "outputId": "afb4230a-52c4-4e90-e860-752ecf9be110"
   },
   "outputs": [
    {
     "name": "stdout",
     "output_type": "stream",
     "text": [
      "train score: 0.6512\n",
      "test score: 0.6004\n"
     ]
    }
   ],
   "source": [
    "# Bag of words with Word Count, Character Word, Dale-Chall list, Concreteness rating, AoA average\n",
    "nb_res = MN_naive_bayes(res, y)"
   ]
  },
  {
   "cell_type": "markdown",
   "metadata": {
    "id": "jYynF1tI8S7l"
   },
   "source": [
    "Let's check feature importance in the MultinomialNB model:"
   ]
  },
  {
   "cell_type": "code",
   "execution_count": 213,
   "metadata": {
    "ExecuteTime": {
     "end_time": "2021-09-24T13:15:46.519714Z",
     "start_time": "2021-09-24T13:15:46.481817Z"
    },
    "colab": {
     "base_uri": "https://localhost:8080/"
    },
    "executionInfo": {
     "elapsed": 9,
     "status": "ok",
     "timestamp": 1632302047001,
     "user": {
      "displayName": "Thomson Choi",
      "photoUrl": "https://lh3.googleusercontent.com/a-/AOh14GijGo5A_JpQxt5NmDkapmn-FRmfqqEpQAVdH1Sq-Rw=s64",
      "userId": "08314397408289494396"
     },
     "user_tz": -480
    },
    "id": "I8x4VGY95c9N",
    "outputId": "18559184-c132-4930-834b-ad5fcdd27e1e"
   },
   "outputs": [
    {
     "name": "stdout",
     "output_type": "stream",
     "text": [
      "Words that contributes to predicting a need for simplification: ['voivodship', 'horrorcor', 'kms', 'esteghl', 'seyß', 'dazur', 'werkelijk', 'divoir', 'didnt', 'politican']\n",
      "Words that are low probability to predicting a need for simplification: ['depart', 'unit', 'known', 'franc', 'citi', 'born', 'use', 'state', 'lrb', 'rrb']\n",
      "Lowest log_probab: -14.426007926973522\n",
      "Highest log_probab: -3.63953826660698\n",
      "\n"
     ]
    },
    {
     "data": {
      "text/plain": [
       "{'**Char Count**': -11.430275653419532,\n",
       " '**DC Vec**': -10.64181829305526,\n",
       " '**Concr Vec**': -12.816570014539423,\n",
       " '**Concr Pct Known**': -12.123422833979475,\n",
       " '**AoA Vec**': -11.717957725871312}"
      ]
     },
     "execution_count": 213,
     "metadata": {},
     "output_type": "execute_result"
    }
   ],
   "source": [
    "comb_features = feature_names + ['**Num Words**', '**Char Count**', '**DC Vec**', '**Concr Vec**', \n",
    "                                 '**Concr Pct Known**', '**AoA Vec**']\n",
    "print('Words that contributes to predicting a need for simplification:',\n",
    "      [comb_features[idx] for idx in np.argsort(nb_res.feature_log_prob_[1, :])[:10]])\n",
    "print('Words that are low probability to predicting a need for simplification:',\n",
    "      [comb_features[idx] for idx in np.argsort(nb_res.feature_log_prob_[1, :])[-10:]])\n",
    "print('Lowest log_probab:', sorted(nb_res.feature_log_prob_[1, :])[0])\n",
    "print('Highest log_probab:', sorted(nb_res.feature_log_prob_[1, :])[-1])\n",
    "print('')\n",
    "dict(zip(comb_features[-5:], nb_res.feature_log_prob_[1, -5:]))"
   ]
  },
  {
   "cell_type": "markdown",
   "metadata": {
    "id": "CEAtCsodqbYs"
   },
   "source": [
    "The engineered features have relatively low log_probab for predicting a text to be difficult. \n",
    "\n",
    "The scores with NB is not high, we're going to attempt to enrich features first before using other machine learning algorithms.\n",
    "Let's try Unsupervised Learning methods before returning to Supervised Learning methods.  We will return to evaluating our Supervised Methods after applying Unsupervised Learning methods to our input features set, as well as conducting failure analysis."
   ]
  },
  {
   "cell_type": "markdown",
   "metadata": {
    "id": "3-8O21IBx0CU"
   },
   "source": [
    "# Part B - Unsupervised Learning"
   ]
  },
  {
   "cell_type": "markdown",
   "metadata": {},
   "source": [
    "## Motivation\n",
    "The motivation of applying unsupervised learning methods is to simplify the close to 24k word-term features from the Count Vectorizer, in order to make our model selection and training more time-efficient.  We will use dimension reduction methods such as K-means clustering, Truncated SVD and Non-negative Matrix Factorization and utilize the result reduced feature set back in Supervised Learning models to see which model performs the best before returning to use the full Count Vectorizer feature set. \n",
    "\n",
    "The Unsupervised Learning methods will be applied on the Count Vectorizer features only and will not apply to word count, character count, or the external data vectors because those are already summary features that do not need dimension reduction.\n",
    "\n",
    "With less number of features we expect the model selection to take less time, although sacrificing some accuracy due to dimension reduction with a lost in resolution of the original data."
   ]
  },
  {
   "cell_type": "markdown",
   "metadata": {
    "id": "yBJnLsMd3Kvm"
   },
   "source": [
    "## K Means Clustering"
   ]
  },
  {
   "cell_type": "code",
   "execution_count": 286,
   "metadata": {
    "ExecuteTime": {
     "end_time": "2021-09-24T16:20:01.642891Z",
     "start_time": "2021-09-24T16:20:01.510247Z"
    },
    "executionInfo": {
     "elapsed": 646,
     "status": "ok",
     "timestamp": 1632302047643,
     "user": {
      "displayName": "Thomson Choi",
      "photoUrl": "https://lh3.googleusercontent.com/a-/AOh14GijGo5A_JpQxt5NmDkapmn-FRmfqqEpQAVdH1Sq-Rw=s64",
      "userId": "08314397408289494396"
     },
     "user_tz": -480
    },
    "id": "e_Zed8s6ymXp"
   },
   "outputs": [],
   "source": [
    "from sklearn.cluster import KMeans\n",
    "\n",
    "force_kmeans = False\n",
    "if os.path.exists(root_path + 'kmeans.pkl') and force_kmeans==False:\n",
    "    kmeans = pickle.load(open(root_path + 'kmeans.pkl', 'rb'))\n",
    "    res_k_means = kmeans.transform(res)\n",
    "else:    \n",
    "    kmeans = KMeans(n_clusters=10, random_state=0)\n",
    "    kmeans.fit(res)\n",
    "    res_k_means = kmeans.transform(res)\n",
    "    pickle.dump(kmeans, open(root_path + 'kmeans.pkl', 'wb'))"
   ]
  },
  {
   "cell_type": "markdown",
   "metadata": {
    "id": "4jdv7V6XFmtK"
   },
   "source": [
    "K Means clustering takes 10 mins for 5 clusters. 13 mins for 10 clusters"
   ]
  },
  {
   "cell_type": "code",
   "execution_count": 21,
   "metadata": {
    "ExecuteTime": {
     "end_time": "2021-09-22T11:40:33.855891Z",
     "start_time": "2021-09-22T11:40:33.657326Z"
    },
    "colab": {
     "base_uri": "https://localhost:8080/"
    },
    "executionInfo": {
     "elapsed": 412,
     "status": "ok",
     "timestamp": 1632302048052,
     "user": {
      "displayName": "Thomson Choi",
      "photoUrl": "https://lh3.googleusercontent.com/a-/AOh14GijGo5A_JpQxt5NmDkapmn-FRmfqqEpQAVdH1Sq-Rw=s64",
      "userId": "08314397408289494396"
     },
     "user_tz": -480
    },
    "id": "DE3vy3No11fl",
    "outputId": "2325918b-b0de-465f-aff0-5a5a12cdeaf1"
   },
   "outputs": [
    {
     "name": "stdout",
     "output_type": "stream",
     "text": [
      "train score: 0.5965\n",
      "test score: 0.5953\n"
     ]
    },
    {
     "data": {
      "text/plain": [
       "MultinomialNB()"
      ]
     },
     "execution_count": 21,
     "metadata": {},
     "output_type": "execute_result"
    }
   ],
   "source": [
    "MN_naive_bayes(res_k_means, y)"
   ]
  },
  {
   "cell_type": "markdown",
   "metadata": {},
   "source": [
    "We attempt to evaluation how well the clusters are formed by K-means clustering by Silhouette Coefficient and Calinski Harabasz score."
   ]
  },
  {
   "cell_type": "code",
   "execution_count": 287,
   "metadata": {
    "ExecuteTime": {
     "end_time": "2021-09-24T16:21:28.630220Z",
     "start_time": "2021-09-24T16:21:28.575368Z"
    },
    "colab": {
     "base_uri": "https://localhost:8080/"
    },
    "executionInfo": {
     "elapsed": 5,
     "status": "ok",
     "timestamp": 1632302048052,
     "user": {
      "displayName": "Thomson Choi",
      "photoUrl": "https://lh3.googleusercontent.com/a-/AOh14GijGo5A_JpQxt5NmDkapmn-FRmfqqEpQAVdH1Sq-Rw=s64",
      "userId": "08314397408289494396"
     },
     "user_tz": -480
    },
    "id": "Msg78vJEARQK",
    "outputId": "65230933-30c5-42bf-bb09-8ce1f57233b6"
   },
   "outputs": [
    {
     "name": "stdout",
     "output_type": "stream",
     "text": [
      "Silhouette Coeff: -0.012\n"
     ]
    }
   ],
   "source": [
    "from sklearn import metrics\n",
    "print('Silhouette Coeff: %0.3f' % metrics.silhouette_score(res, kmeans.labels_, sample_size=1000))"
   ]
  },
  {
   "cell_type": "markdown",
   "metadata": {},
   "source": [
    "We find that Calinski Harabasz score requires the input feature matrix to be dense and not sparse.  The session crashed because out of RAM when converting word features sparse matrix to dense.  We failed to get a Calinski Harabasz score due to the size of our input data."
   ]
  },
  {
   "cell_type": "code",
   "execution_count": 289,
   "metadata": {
    "ExecuteTime": {
     "end_time": "2021-09-24T16:22:26.315647Z",
     "start_time": "2021-09-24T16:22:26.303679Z"
    },
    "executionInfo": {
     "elapsed": 4,
     "status": "ok",
     "timestamp": 1632302048337,
     "user": {
      "displayName": "Thomson Choi",
      "photoUrl": "https://lh3.googleusercontent.com/a-/AOh14GijGo5A_JpQxt5NmDkapmn-FRmfqqEpQAVdH1Sq-Rw=s64",
      "userId": "08314397408289494396"
     },
     "user_tz": -480
    },
    "id": "-vEpHhcTGCql"
   },
   "outputs": [],
   "source": [
    "# This would crash:\n",
    "# metrics.calinski_harabasz_score(res.toarray(), kmeans.labels_)"
   ]
  },
  {
   "cell_type": "markdown",
   "metadata": {
    "id": "3b7QPc5lGoy8"
   },
   "source": [
    "Conclusion: K-means clustering doesn't look to give us well defined clusters based on the Silhouette Coefficient."
   ]
  },
  {
   "cell_type": "markdown",
   "metadata": {
    "id": "oMJkvhGs4Vp5"
   },
   "source": [
    "## Truncated SVD"
   ]
  },
  {
   "cell_type": "code",
   "execution_count": 311,
   "metadata": {
    "ExecuteTime": {
     "end_time": "2021-09-24T23:44:30.629896Z",
     "start_time": "2021-09-24T23:44:15.837463Z"
    },
    "colab": {
     "base_uri": "https://localhost:8080/"
    },
    "executionInfo": {
     "elapsed": 33625,
     "status": "ok",
     "timestamp": 1632302081959,
     "user": {
      "displayName": "Thomson Choi",
      "photoUrl": "https://lh3.googleusercontent.com/a-/AOh14GijGo5A_JpQxt5NmDkapmn-FRmfqqEpQAVdH1Sq-Rw=s64",
      "userId": "08314397408289494396"
     },
     "user_tz": -480
    },
    "id": "xdzKkjog4Te3",
    "outputId": "a1e14446-150c-4eb4-e90e-c814c5655cb0"
   },
   "outputs": [
    {
     "name": "stdout",
     "output_type": "stream",
     "text": [
      "(416768, 100)\n",
      "0.25142898599826474\n"
     ]
    }
   ],
   "source": [
    "from sklearn.decomposition import TruncatedSVD\n",
    "\n",
    "force_svd = False\n",
    "if os.path.exists(root_path + 'svd.pkl') and force_svd==False:\n",
    "    svd = pickle.load(open(root_path + 'svd.pkl', 'rb') )\n",
    "    Xsvd = svd.fit_transform(res)\n",
    "else:  \n",
    "    svd = TruncatedSVD(100)\n",
    "    Xsvd = svd.fit_transform(res)\n",
    "    pickle.dump(svd, open(root_path + 'svd.pkl', 'wb'))\n",
    "\n",
    "print(Xsvd.shape)\n",
    "print(svd.explained_variance_ratio_.sum())"
   ]
  },
  {
   "cell_type": "markdown",
   "metadata": {},
   "source": [
    "The explained variance ratio is low with SVD of 100 components, which is not satisfactory.  \n",
    "\n",
    "We can see some of the words in the top 5 components in the decomposition."
   ]
  },
  {
   "cell_type": "code",
   "execution_count": 296,
   "metadata": {
    "ExecuteTime": {
     "end_time": "2021-09-24T16:26:39.719861Z",
     "start_time": "2021-09-24T16:26:39.694928Z"
    },
    "colab": {
     "base_uri": "https://localhost:8080/"
    },
    "executionInfo": {
     "elapsed": 15,
     "status": "ok",
     "timestamp": 1632302081961,
     "user": {
      "displayName": "Thomson Choi",
      "photoUrl": "https://lh3.googleusercontent.com/a-/AOh14GijGo5A_JpQxt5NmDkapmn-FRmfqqEpQAVdH1Sq-Rw=s64",
      "userId": "08314397408289494396"
     },
     "user_tz": -480
    },
    "id": "4YQLxTLzsqXo",
    "outputId": "2f299834-c038-485c-a5bf-63c5baac2ba3"
   },
   "outputs": [
    {
     "name": "stdout",
     "output_type": "stream",
     "text": [
      "['known', 'footbal', 'born', 'lrb', 'rrb']\n",
      "['pas', 'commune', 'region', 'depart', 'franc']\n",
      "['new', 'counti', 'citi', 'unit', 'state']\n",
      "['team', 'player', 'play', 'born', 'footbal']\n",
      "['world', 'time', 'new', 'year', 'use']\n"
     ]
    }
   ],
   "source": [
    "for j in range(5):\n",
    "    print([feature_names[i] for i in np.argsort(svd.components_[j, :])[-5:]])"
   ]
  },
  {
   "cell_type": "markdown",
   "metadata": {},
   "source": [
    "Since SVD produces negative values, it is not usable using Multinomial Naive Bayes.  The following cell fails."
   ]
  },
  {
   "cell_type": "code",
   "execution_count": 301,
   "metadata": {
    "ExecuteTime": {
     "end_time": "2021-09-24T16:29:11.566705Z",
     "start_time": "2021-09-24T16:29:11.558727Z"
    }
   },
   "outputs": [],
   "source": [
    "# This would fail\n",
    "# MN_naive_bayes(Xsvd, y)"
   ]
  },
  {
   "cell_type": "markdown",
   "metadata": {
    "id": "WIkRKbeKdWwP"
   },
   "source": [
    "## Non-negative Matrix Factorization"
   ]
  },
  {
   "cell_type": "markdown",
   "metadata": {},
   "source": [
    "We would not run into the same problem with NMF as we did with SVD since the decomposition would result in non-negative matrix so we can use it with MultinomialNB."
   ]
  },
  {
   "cell_type": "code",
   "execution_count": 298,
   "metadata": {
    "ExecuteTime": {
     "end_time": "2021-09-24T16:28:11.194188Z",
     "start_time": "2021-09-24T16:27:45.598651Z"
    },
    "colab": {
     "base_uri": "https://localhost:8080/"
    },
    "executionInfo": {
     "elapsed": 45464,
     "status": "ok",
     "timestamp": 1632302140448,
     "user": {
      "displayName": "Thomson Choi",
      "photoUrl": "https://lh3.googleusercontent.com/a-/AOh14GijGo5A_JpQxt5NmDkapmn-FRmfqqEpQAVdH1Sq-Rw=s64",
      "userId": "08314397408289494396"
     },
     "user_tz": -480
    },
    "id": "8pUwxLw8dVcH",
    "outputId": "cc2ce865-19ed-4085-8ffe-51e6c42dd315"
   },
   "outputs": [
    {
     "data": {
      "text/plain": [
       "(416768, 100)"
      ]
     },
     "execution_count": 298,
     "metadata": {},
     "output_type": "execute_result"
    }
   ],
   "source": [
    "from sklearn.decomposition import NMF\n",
    "\n",
    "force_nmf = False\n",
    "if os.path.exists(root_path + 'nmf.pkl') and force_nmf==False:\n",
    "    nmf = pickle.load(open(root_path + 'nmf.pkl', 'rb'))\n",
    "    Xnmf = nmf.transform(res)\n",
    "else:  \n",
    "    nmf = NMF(n_components=100, random_state=0, init='nndsvd').fit(res)\n",
    "    Xnmf = nmf.transform(res)\n",
    "    pickle.dump(nmf, open(root_path + 'nmf.pkl', 'wb'))\n",
    "    \n",
    "Xnmf.shape"
   ]
  },
  {
   "cell_type": "code",
   "execution_count": 29,
   "metadata": {
    "ExecuteTime": {
     "end_time": "2021-09-22T11:41:33.925087Z",
     "start_time": "2021-09-22T11:41:33.503216Z"
    },
    "colab": {
     "base_uri": "https://localhost:8080/"
    },
    "executionInfo": {
     "elapsed": 691,
     "status": "ok",
     "timestamp": 1632302144868,
     "user": {
      "displayName": "Thomson Choi",
      "photoUrl": "https://lh3.googleusercontent.com/a-/AOh14GijGo5A_JpQxt5NmDkapmn-FRmfqqEpQAVdH1Sq-Rw=s64",
      "userId": "08314397408289494396"
     },
     "user_tz": -480
    },
    "id": "CDFxc7S-qsAh",
    "outputId": "e4bf4a87-5eb9-4955-8d88-ef6cd9c0abbb"
   },
   "outputs": [
    {
     "name": "stdout",
     "output_type": "stream",
     "text": [
      "train score: 0.5643\n",
      "test score: 0.5637\n"
     ]
    },
    {
     "data": {
      "text/plain": [
       "MultinomialNB()"
      ]
     },
     "execution_count": 29,
     "metadata": {},
     "output_type": "execute_result"
    }
   ],
   "source": [
    "MN_naive_bayes(Xnmf, y)"
   ]
  },
  {
   "cell_type": "markdown",
   "metadata": {},
   "source": [
    "## T-SNE Visualization on output of NMF"
   ]
  },
  {
   "cell_type": "markdown",
   "metadata": {},
   "source": [
    "Preview: sklearn T-SNE takes a long time: it took 5 hours on the 100 dimension X with NMF.\n",
    "(Another implementation is suggested here: https://medium.com/rapids-ai/tsne-with-gpus-hours-to-seconds-9d9c17c941db\n",
    "But only supports Linux machines.)"
   ]
  },
  {
   "cell_type": "code",
   "execution_count": 110,
   "metadata": {
    "ExecuteTime": {
     "end_time": "2021-09-23T09:43:53.179181Z",
     "start_time": "2021-09-23T04:43:08.499280Z"
    }
   },
   "outputs": [],
   "source": [
    "# from adspy_shared_utilities import plot_labelled_scatter\n",
    "from sklearn.manifold import TSNE\n",
    "\n",
    "tsne = TSNE(random_state = 0)\n",
    "X_tsne = tsne.fit_transform(Xnmf)\n",
    "# pickle.dump(X_tsne, open('./pickle/' + 'X_tsne.pkl', 'wb'))\n",
    "# pickle.dump(tsne, open('./pickle/' + 'tsne.pkl', 'wb'))"
   ]
  },
  {
   "cell_type": "code",
   "execution_count": 114,
   "metadata": {
    "ExecuteTime": {
     "end_time": "2021-09-23T09:44:36.664948Z",
     "start_time": "2021-09-23T09:44:36.648991Z"
    }
   },
   "outputs": [
    {
     "data": {
      "text/plain": [
       "(416768, 2)"
      ]
     },
     "execution_count": 114,
     "metadata": {},
     "output_type": "execute_result"
    }
   ],
   "source": [
    "X_tsne.shape"
   ]
  },
  {
   "cell_type": "code",
   "execution_count": 120,
   "metadata": {
    "ExecuteTime": {
     "end_time": "2021-09-23T09:51:00.724942Z",
     "start_time": "2021-09-23T09:51:00.719955Z"
    }
   },
   "outputs": [
    {
     "data": {
      "text/plain": [
       "999"
      ]
     },
     "execution_count": 120,
     "metadata": {},
     "output_type": "execute_result"
    }
   ],
   "source": [
    "tsne.n_iter_"
   ]
  },
  {
   "cell_type": "code",
   "execution_count": 302,
   "metadata": {
    "ExecuteTime": {
     "end_time": "2021-09-24T16:31:19.568839Z",
     "start_time": "2021-09-24T16:31:14.390690Z"
    }
   },
   "outputs": [
    {
     "data": {
      "text/plain": [
       "<matplotlib.collections.PathCollection at 0x24989735fd0>"
      ]
     },
     "execution_count": 302,
     "metadata": {},
     "output_type": "execute_result"
    },
    {
     "data": {
      "image/png": "[encoded data removed]",
      "text/plain": [
       "<Figure size 576x576 with 1 Axes>"
      ]
     },
     "metadata": {
      "needs_background": "light"
     },
     "output_type": "display_data"
    }
   ],
   "source": [
    "import matplotlib.pyplot as plt\n",
    "\n",
    "X_tsne = pickle.load(open('./pickle/' + 'tsne.pkl', 'rb')).embedding_\n",
    "plt.figure(figsize=(8,8))\n",
    "plt.scatter(x=X_tsne[:,0], y=X_tsne[:,1], c=df['label'], cmap='autumn')\n"
   ]
  },
  {
   "cell_type": "markdown",
   "metadata": {},
   "source": [
    "The result is not satisfactory, there are too many clusters and they do not help us determine whether the cluster is more simple or complex that needs simplification, as they overlap with each other."
   ]
  },
  {
   "cell_type": "markdown",
   "metadata": {},
   "source": [
    "### Smaller data set"
   ]
  },
  {
   "cell_type": "markdown",
   "metadata": {},
   "source": [
    "Let's try a smaller data set with a less n-components NMF and with different hyperparameters in T-SNE.\n",
    "\n",
    "We will apply TSNE on matrix after NMF with 20 components only. This time we will adjust perplexity to a small value at 5, and learning rate 10, with n_iter and n_iter_without_progress to shorter training time.  We will also only use 30% of the data."
   ]
  },
  {
   "cell_type": "code",
   "execution_count": 306,
   "metadata": {
    "ExecuteTime": {
     "end_time": "2021-09-24T16:35:52.243120Z",
     "start_time": "2021-09-24T16:35:52.205221Z"
    }
   },
   "outputs": [],
   "source": [
    "if os.path.exists('./pickle/' + 'nmf20.pkl'):\n",
    "    nmf20 = pickle.load(open('./pickle/' +  'nmf20.pkl', 'rb'))\n",
    "else:\n",
    "    nmf20 = NMF(n_components=20, random_state=0, init='nndsvd').fit(res)\n",
    "    pickle.dump(nmf20, open('./pickle/' + 'nmf20.pkl', 'wb'))\n",
    "    \n",
    "if os.path.exists('./pickle/' + 'Xnmf20.pkl'):\n",
    "    Xnmf20 = pickle.load(open('./pickle/' +  'Xnmf20.pkl', 'rb'))\n",
    "else:\n",
    "    Xnmf20 = nmf20.transform(res)\n",
    "    pickle.dump(Xnmf20, open('./pickle/' + 'Xnmf20.pkl', 'wb'))"
   ]
  },
  {
   "cell_type": "code",
   "execution_count": 308,
   "metadata": {
    "ExecuteTime": {
     "end_time": "2021-09-24T16:38:35.281566Z",
     "start_time": "2021-09-24T16:38:35.157898Z"
    }
   },
   "outputs": [],
   "source": [
    "X_train, X_test, y_train, y_test = train_test_split(Xnmf20, df['label'], random_state=0, train_size=0.3)\n",
    "\n",
    "if os.path.exists('./pickle/' + 'tsne_small.pkl'):\n",
    "    tsne_small = pickle.load(open('./pickle/' + 'tsne_small.pkl', 'rb'))\n",
    "else:\n",
    "    tsne_small = TSNE(perplexity=5, learning_rate=10, n_iter=500, n_iter_without_progress=100,\n",
    "                  random_state = 0, n_jobs=-1, verbose=True)\n",
    "    pickle.dump(tsne_small, open('./pickle/' + 'tsne_small.pkl', 'wb'))\n",
    "    \n",
    "if os.path.exists('./pickle/' + 'X_tsne_small.pkl'):\n",
    "    X_tsne_small = pickle.load(open('./pickle/' + 'X_tsne_small.pkl', 'rb'))\n",
    "else:\n",
    "    X_tsne_small = tsne_small.fit_transform(X_train)\n",
    "    pickle.dump(X_tsne_small, open('./pickle/' + 'X_tsne_small.pkl', 'wb'))\n"
   ]
  },
  {
   "cell_type": "code",
   "execution_count": 309,
   "metadata": {
    "ExecuteTime": {
     "end_time": "2021-09-24T16:38:39.488315Z",
     "start_time": "2021-09-24T16:38:37.917517Z"
    }
   },
   "outputs": [
    {
     "data": {
      "text/plain": [
       "<matplotlib.collections.PathCollection at 0x24989800880>"
      ]
     },
     "execution_count": 309,
     "metadata": {},
     "output_type": "execute_result"
    },
    {
     "data": {
      "image/png": "[encoded data removed]",
      "text/plain": [
       "<Figure size 576x576 with 1 Axes>"
      ]
     },
     "metadata": {
      "needs_background": "light"
     },
     "output_type": "display_data"
    }
   ],
   "source": [
    "plt.figure(figsize=(8,8))\n",
    "plt.scatter(x=X_tsne_small[:,0], y=X_tsne_small[:,1], c=y_train, cmap='autumn')"
   ]
  },
  {
   "cell_type": "markdown",
   "metadata": {},
   "source": [
    "Similarly it is not apparent the T-sne visualization help us on any insights into clusters in the dataset of features after NMF."
   ]
  },
  {
   "cell_type": "markdown",
   "metadata": {},
   "source": [
    "## T-SNE Visualization on output of K-means clustering"
   ]
  },
  {
   "cell_type": "code",
   "execution_count": 313,
   "metadata": {
    "ExecuteTime": {
     "end_time": "2021-09-24T23:58:08.875124Z",
     "start_time": "2021-09-24T23:48:12.900202Z"
    }
   },
   "outputs": [
    {
     "data": {
      "text/plain": [
       "<matplotlib.collections.PathCollection at 0x249bd78feb0>"
      ]
     },
     "execution_count": 313,
     "metadata": {},
     "output_type": "execute_result"
    },
    {
     "data": {
      "image/png": "[encoded data removed]",
      "text/plain": [
       "<Figure size 576x576 with 1 Axes>"
      ]
     },
     "metadata": {
      "needs_background": "light"
     },
     "output_type": "display_data"
    }
   ],
   "source": [
    "X_train, X_test, y_train, y_test = train_test_split(res_k_means, df['label'], random_state=0, train_size=0.3)\n",
    "\n",
    "tsne_kmeans_small = TSNE(perplexity=5, learning_rate=10, n_iter=1000, n_iter_without_progress=100,\n",
    "                  random_state = 0, n_jobs=-1, verbose=False)\n",
    "X_tsne_kmeans_small = tsne_kmeans_small.fit_transform(X_train)\n",
    "\n",
    "plt.figure(figsize=(8,8))\n",
    "plt.scatter(x=X_tsne_kmeans_small[:,0], y=X_tsne_kmeans_small[:,1], c=y_train, cmap='autumn')"
   ]
  },
  {
   "cell_type": "markdown",
   "metadata": {},
   "source": [
    "Similar non-conclusive results in T-SNE visualization on output of K-means clustering"
   ]
  },
  {
   "cell_type": "markdown",
   "metadata": {},
   "source": [
    "## Part B Unsupervised Evaluation"
   ]
  },
  {
   "cell_type": "markdown",
   "metadata": {},
   "source": [
    "Among the three dimension reduction unsupervised methods, judging by the result of MultinomialNB, we find that K-means features produced the closest test accuracy 0.5953 to the original data with 0.6004, followed by NMF features 0.5637 which was significantly worse. \n",
    "\n",
    "In order to visualize the findings, we attempted T-SNE visualization.  However we're not able to see clear clusters from K-means or NMF transformed features, which means after the unsupervised methods to reduce dimensions, the groups of words in each feature do not cluster together that can tell easily which text needs simplification, and each feature is relatively equidistant to each other."
   ]
  },
  {
   "cell_type": "markdown",
   "metadata": {
    "id": "qXB51W3EvAc9"
   },
   "source": [
    "# Return to Part A Supervised Learning after Features Engineering with Unsupervised Learning"
   ]
  },
  {
   "cell_type": "markdown",
   "metadata": {
    "id": "y_6CrecFqbY2"
   },
   "source": [
    "## Gradient Boosted Decision Tree"
   ]
  },
  {
   "cell_type": "code",
   "execution_count": 34,
   "metadata": {
    "ExecuteTime": {
     "end_time": "2021-09-22T11:50:42.612179Z",
     "start_time": "2021-09-22T11:50:42.545358Z"
    },
    "colab": {
     "base_uri": "https://localhost:8080/"
    },
    "executionInfo": {
     "elapsed": 3518560,
     "status": "ok",
     "timestamp": 1632306455435,
     "user": {
      "displayName": "Thomson Choi",
      "photoUrl": "https://lh3.googleusercontent.com/a-/AOh14GijGo5A_JpQxt5NmDkapmn-FRmfqqEpQAVdH1Sq-Rw=s64",
      "userId": "08314397408289494396"
     },
     "user_tz": -480
    },
    "id": "8dMq6Nz1vLAg",
    "outputId": "d4e103d9-cc29-4385-9a02-27b522ba2a06"
   },
   "outputs": [],
   "source": [
    "word_vectors = [res, res_k_means, Xsvd, Xnmf]\n",
    "word_vectors_names = ['Word Vector', 'Word K-Means 100 Clusters', 'Word SVD 100 components', 'Word NMF 100 components']\n",
    "word_vectors_file = ['wordvec', 'kmeans', 'svd', 'nmf']\n",
    "force_gbdt = False\n",
    "\n",
    "from sklearn.ensemble import GradientBoostingClassifier\n",
    "import scipy\n",
    "from scipy.sparse import hstack # hstack only for sparse matrix\n",
    "from sklearn.metrics import f1_score\n",
    "import warnings\n",
    "warnings.filterwarnings('ignore')\n",
    "\n",
    "# getX function helps us combine the word features with or without dimension reduction to the engineered features\n",
    "def getX(word_vec):\n",
    "    if type(word_vec) == scipy.sparse.csr.csr_matrix:\n",
    "        X = hstack((word_vec, num_words, res_char_count, \n",
    "                np.nan_to_num(res @ dc_vec / num_words, nan=0),\n",
    "                np.nan_to_num(res @ concr_vec / num_words, nan=0),\n",
    "                np.nan_to_num(res @ aoa_vec / num_words, nan=0)))\n",
    "    else: \n",
    "        X = np.concatenate((word_vec, num_words, res_char_count, \n",
    "                np.nan_to_num(res @ dc_vec / num_words, nan=0),\n",
    "                np.nan_to_num(res @ concr_vec / num_words, nan=0),\n",
    "                np.nan_to_num(res @ aoa_vec / num_words, nan=0)), axis=1)\n",
    "    return X\n",
    "\n",
    "def gradboost(X, y, l_rate=0.3, n_est=200, max_d=5, train_size=0.3):\n",
    "    X_train, X_test, y_train, y_test = train_test_split(X, y, random_state=0, train_size=train_size)\n",
    "    gbdt = GradientBoostingClassifier(learning_rate=l_rate, n_estimators=n_est, max_depth=max_d)\n",
    "    gbdt.fit(X_train, y_train)\n",
    "    \n",
    "    print('train score:', round(gbdt.score(X_train, y_train),4))\n",
    "    print('test score:', round(gbdt.score(X_test, y_test),4))\n",
    "    print('f1_score:', f1_score(y_test, gbdt.predict(X_test)))\n",
    "    \n",
    "    return gbdt"
   ]
  },
  {
   "cell_type": "code",
   "execution_count": 162,
   "metadata": {
    "ExecuteTime": {
     "end_time": "2021-09-23T12:00:03.811854Z",
     "start_time": "2021-09-23T11:59:49.618818Z"
    }
   },
   "outputs": [
    {
     "name": "stdout",
     "output_type": "stream",
     "text": [
      "Word Vector\n",
      "train score: 0.7236\n",
      "test score: 0.6817\n",
      "f1_score: 0.6864259398712056\n",
      "--------------\n",
      "Word K-Means 100 Clusters\n",
      "train score: 0.7116\n",
      "test score: 0.6518\n",
      "f1_score: 0.6670010161602256\n",
      "--------------\n",
      "Word SVD 100 components\n",
      "train score: 0.6624\n",
      "test score: 0.6421\n",
      "f1_score: 0.6500961789800337\n",
      "--------------\n",
      "Word NMF 100 components\n",
      "train score: 0.7512\n",
      "test score: 0.6718\n",
      "f1_score: 0.6736466129537988\n",
      "--------------\n"
     ]
    }
   ],
   "source": [
    "for i in range(len(word_vectors)):\n",
    "    print(word_vectors_names[i])\n",
    "    path_gbdt = root_path + 'pickle/gbdt_' + word_vectors_file[i] + '.pkl'\n",
    "    if os.path.exists(path_gbdt) and force_gbdt==False:\n",
    "        gbdt = pickle.load(open(path_gbdt, 'rb'))\n",
    "        X = getX(word_vectors[i])\n",
    "        y = df['label']\n",
    "        X_train, X_test, y_train, y_test = train_test_split(X, y, random_state=0, train_size=0.3)\n",
    "        print('train score:', round(gbdt.score(X_train, y_train),4))\n",
    "        print('test score:', round(gbdt.score(X_test, y_test),4))\n",
    "        print('f1_score:', f1_score(y_test, gbdt.predict(X_test)))\n",
    "        print('--------------')\n",
    "    else:\n",
    "        gbdt = gradboost(getX(word_vectors[i]), y=df['label'])\n",
    "        pickle.dump(gbdt, open(path_gbdt, 'wb'))"
   ]
  },
  {
   "cell_type": "markdown",
   "metadata": {},
   "source": [
    "We find that the features generated by by original word count vector is the best but has 23k features, while non-negative matrix factorization with 100 features is the best out of all dimension reduction by K-means or SVD.  \n",
    "\n",
    "\n",
    "We have tried to train the Gradient Boosting model with the original word count vector with 23k features and would take about an hour to finish while the NMF features with ~100 features would only take 1/10 of the time.\n",
    "\n",
    "For performance and training efficiency, we will continue our study with the features generated by NMF in order to save computing time.\n"
   ]
  },
  {
   "cell_type": "markdown",
   "metadata": {
    "id": "POV-ihcxxDDS"
   },
   "source": [
    "### Grid Search"
   ]
  },
  {
   "cell_type": "code",
   "execution_count": 316,
   "metadata": {
    "ExecuteTime": {
     "end_time": "2021-09-25T00:36:07.344758Z",
     "start_time": "2021-09-25T00:01:07.172221Z"
    }
   },
   "outputs": [
    {
     "data": {
      "text/html": [
       "<div>\n",
       "<style scoped>\n",
       "    .dataframe tbody tr th:only-of-type {\n",
       "        vertical-align: middle;\n",
       "    }\n",
       "\n",
       "    .dataframe tbody tr th {\n",
       "        vertical-align: top;\n",
       "    }\n",
       "\n",
       "    .dataframe thead th {\n",
       "        text-align: right;\n",
       "    }\n",
       "</style>\n",
       "<table border=\"1\" class=\"dataframe\">\n",
       "  <thead>\n",
       "    <tr style=\"text-align: right;\">\n",
       "      <th></th>\n",
       "      <th>mean_fit_time</th>\n",
       "      <th>std_fit_time</th>\n",
       "      <th>mean_score_time</th>\n",
       "      <th>std_score_time</th>\n",
       "      <th>param_n_estimators</th>\n",
       "      <th>params</th>\n",
       "      <th>split0_test_score</th>\n",
       "      <th>split1_test_score</th>\n",
       "      <th>mean_test_score</th>\n",
       "      <th>std_test_score</th>\n",
       "      <th>rank_test_score</th>\n",
       "    </tr>\n",
       "  </thead>\n",
       "  <tbody>\n",
       "    <tr>\n",
       "      <th>0</th>\n",
       "      <td>576.422243</td>\n",
       "      <td>0.158577</td>\n",
       "      <td>1.051687</td>\n",
       "      <td>0.012468</td>\n",
       "      <td>100</td>\n",
       "      <td>{'n_estimators': 100}</td>\n",
       "      <td>0.673398</td>\n",
       "      <td>0.674671</td>\n",
       "      <td>0.674034</td>\n",
       "      <td>0.000637</td>\n",
       "      <td>1</td>\n",
       "    </tr>\n",
       "    <tr>\n",
       "      <th>1</th>\n",
       "      <td>1030.434389</td>\n",
       "      <td>0.395941</td>\n",
       "      <td>1.567308</td>\n",
       "      <td>0.016457</td>\n",
       "      <td>200</td>\n",
       "      <td>{'n_estimators': 200}</td>\n",
       "      <td>0.673097</td>\n",
       "      <td>0.673871</td>\n",
       "      <td>0.673484</td>\n",
       "      <td>0.000387</td>\n",
       "      <td>2</td>\n",
       "    </tr>\n",
       "    <tr>\n",
       "      <th>2</th>\n",
       "      <td>1403.735894</td>\n",
       "      <td>0.460767</td>\n",
       "      <td>1.642108</td>\n",
       "      <td>0.035405</td>\n",
       "      <td>300</td>\n",
       "      <td>{'n_estimators': 300}</td>\n",
       "      <td>0.672176</td>\n",
       "      <td>0.674038</td>\n",
       "      <td>0.673107</td>\n",
       "      <td>0.000931</td>\n",
       "      <td>3</td>\n",
       "    </tr>\n",
       "  </tbody>\n",
       "</table>\n",
       "</div>"
      ],
      "text/plain": [
       "   mean_fit_time  std_fit_time  mean_score_time  std_score_time  \\\n",
       "0     576.422243      0.158577         1.051687        0.012468   \n",
       "1    1030.434389      0.395941         1.567308        0.016457   \n",
       "2    1403.735894      0.460767         1.642108        0.035405   \n",
       "\n",
       "  param_n_estimators                 params  split0_test_score  \\\n",
       "0                100  {'n_estimators': 100}           0.673398   \n",
       "1                200  {'n_estimators': 200}           0.673097   \n",
       "2                300  {'n_estimators': 300}           0.672176   \n",
       "\n",
       "   split1_test_score  mean_test_score  std_test_score  rank_test_score  \n",
       "0           0.674671         0.674034        0.000637                1  \n",
       "1           0.673871         0.673484        0.000387                2  \n",
       "2           0.674038         0.673107        0.000931                3  "
      ]
     },
     "execution_count": 316,
     "metadata": {},
     "output_type": "execute_result"
    }
   ],
   "source": [
    "from sklearn.ensemble import GradientBoostingClassifier\n",
    "from sklearn.model_selection import GridSearchCV\n",
    "import warnings\n",
    "warnings.filterwarnings('ignore')\n",
    "\n",
    "X_train, X_test, y_train, y_test = train_test_split(getX(Xnmf), df['label'], random_state=0)\n",
    "params = {'n_estimators': [100,200,300]\n",
    "          }\n",
    "gbdt = GradientBoostingClassifier(learning_rate=0.3, max_depth = 5)\n",
    "clf = GridSearchCV(gbdt, params, scoring='accuracy', cv=2, n_jobs=-1)\n",
    "clf.fit(X_train, y_train)\n",
    "pd.DataFrame(clf.cv_results_)"
   ]
  },
  {
   "cell_type": "code",
   "execution_count": 317,
   "metadata": {
    "ExecuteTime": {
     "end_time": "2021-09-25T00:36:07.764635Z",
     "start_time": "2021-09-25T00:36:07.346753Z"
    }
   },
   "outputs": [
    {
     "name": "stdout",
     "output_type": "stream",
     "text": [
      "f1_score: 0.6838851178884079\n"
     ]
    }
   ],
   "source": [
    "print('f1_score:', f1_score(y_test, clf.predict(X_test)))"
   ]
  },
  {
   "cell_type": "markdown",
   "metadata": {},
   "source": [
    "First we tried to search for n_estimators variable by Grid Search. The best score was with n_estimators = 100, but this might be due to cv=2 parameter.  We observe that n_estimators 200 estimators takes ~50% more time than 100 estimators.  We also ran the training separately, for the input features we find that 200 estimators improved accuracy by 0.0030 vs 100 estimators, so there is not a signficant pickup to trade off for the time efficiency. We will continue our exploration with n_estimators = 100."
   ]
  },
  {
   "cell_type": "markdown",
   "metadata": {},
   "source": [
    "Then we do Grid Search on learning rate. We find 0.25 is the best learning rate."
   ]
  },
  {
   "cell_type": "code",
   "execution_count": 47,
   "metadata": {
    "ExecuteTime": {
     "end_time": "2021-09-22T14:50:16.703018Z",
     "start_time": "2021-09-22T14:30:21.817797Z"
    },
    "colab": {
     "base_uri": "https://localhost:8080/",
     "height": 494
    },
    "executionInfo": {
     "elapsed": 195136,
     "status": "error",
     "timestamp": 1631949290642,
     "user": {
      "displayName": "Thomson Choi",
      "photoUrl": "https://lh3.googleusercontent.com/a-/AOh14GijGo5A_JpQxt5NmDkapmn-FRmfqqEpQAVdH1Sq-Rw=s64",
      "userId": "08314397408289494396"
     },
     "user_tz": -480
    },
    "id": "2B-OTH_CqbY2",
    "outputId": "9f109cf9-ac13-407f-81ed-eacce370aff5",
    "scrolled": true
   },
   "outputs": [
    {
     "data": {
      "text/plain": [
       "GridSearchCV(cv=2, estimator=GradientBoostingClassifier(max_depth=5), n_jobs=-1,\n",
       "             param_grid={'learning_rate': [0.15, 0.2, 0.25]},\n",
       "             scoring='accuracy')"
      ]
     },
     "execution_count": 47,
     "metadata": {},
     "output_type": "execute_result"
    }
   ],
   "source": [
    "from sklearn.ensemble import GradientBoostingClassifier\n",
    "from sklearn.model_selection import GridSearchCV\n",
    "import warnings\n",
    "warnings.filterwarnings('ignore')\n",
    "\n",
    "X_train, X_test, y_train, y_test = train_test_split(getX(Xnmf), df['label'], random_state=0)\n",
    "params = {'learning_rate': [0.15,0.20,0.25]\n",
    "          }\n",
    "gbdt = GradientBoostingClassifier(n_estimators=100, max_depth = 5)\n",
    "clf = GridSearchCV(gbdt, params, scoring='accuracy', cv=2, n_jobs=-1)\n",
    "clf.fit(X_train, y_train)\n",
    "# print('train score:', round(gbdt.score(X_train, y_train),4))\n",
    "# print('test score:', round(gbdt.score(X_test, y_test),4))"
   ]
  },
  {
   "cell_type": "code",
   "execution_count": 48,
   "metadata": {
    "ExecuteTime": {
     "end_time": "2021-09-22T14:50:16.718976Z",
     "start_time": "2021-09-22T14:50:16.704016Z"
    }
   },
   "outputs": [
    {
     "data": {
      "text/html": [
       "<div>\n",
       "<style scoped>\n",
       "    .dataframe tbody tr th:only-of-type {\n",
       "        vertical-align: middle;\n",
       "    }\n",
       "\n",
       "    .dataframe tbody tr th {\n",
       "        vertical-align: top;\n",
       "    }\n",
       "\n",
       "    .dataframe thead th {\n",
       "        text-align: right;\n",
       "    }\n",
       "</style>\n",
       "<table border=\"1\" class=\"dataframe\">\n",
       "  <thead>\n",
       "    <tr style=\"text-align: right;\">\n",
       "      <th></th>\n",
       "      <th>mean_fit_time</th>\n",
       "      <th>std_fit_time</th>\n",
       "      <th>mean_score_time</th>\n",
       "      <th>std_score_time</th>\n",
       "      <th>param_learning_rate</th>\n",
       "      <th>params</th>\n",
       "      <th>split0_test_score</th>\n",
       "      <th>split1_test_score</th>\n",
       "      <th>mean_test_score</th>\n",
       "      <th>std_test_score</th>\n",
       "      <th>rank_test_score</th>\n",
       "    </tr>\n",
       "  </thead>\n",
       "  <tbody>\n",
       "    <tr>\n",
       "      <th>0</th>\n",
       "      <td>537.568196</td>\n",
       "      <td>0.274749</td>\n",
       "      <td>1.209028</td>\n",
       "      <td>0.017571</td>\n",
       "      <td>0.15</td>\n",
       "      <td>{'learning_rate': 0.15}</td>\n",
       "      <td>0.673839</td>\n",
       "      <td>0.674230</td>\n",
       "      <td>0.674034</td>\n",
       "      <td>0.000195</td>\n",
       "      <td>3</td>\n",
       "    </tr>\n",
       "    <tr>\n",
       "      <th>1</th>\n",
       "      <td>536.502786</td>\n",
       "      <td>0.225565</td>\n",
       "      <td>1.186750</td>\n",
       "      <td>0.046863</td>\n",
       "      <td>0.2</td>\n",
       "      <td>{'learning_rate': 0.2}</td>\n",
       "      <td>0.674268</td>\n",
       "      <td>0.674626</td>\n",
       "      <td>0.674447</td>\n",
       "      <td>0.000179</td>\n",
       "      <td>2</td>\n",
       "    </tr>\n",
       "    <tr>\n",
       "      <th>2</th>\n",
       "      <td>535.807676</td>\n",
       "      <td>0.512789</td>\n",
       "      <td>0.892412</td>\n",
       "      <td>0.224790</td>\n",
       "      <td>0.25</td>\n",
       "      <td>{'learning_rate': 0.25}</td>\n",
       "      <td>0.675221</td>\n",
       "      <td>0.674869</td>\n",
       "      <td>0.675045</td>\n",
       "      <td>0.000176</td>\n",
       "      <td>1</td>\n",
       "    </tr>\n",
       "  </tbody>\n",
       "</table>\n",
       "</div>"
      ],
      "text/plain": [
       "   mean_fit_time  std_fit_time  mean_score_time  std_score_time  \\\n",
       "0     537.568196      0.274749         1.209028        0.017571   \n",
       "1     536.502786      0.225565         1.186750        0.046863   \n",
       "2     535.807676      0.512789         0.892412        0.224790   \n",
       "\n",
       "  param_learning_rate                   params  split0_test_score  \\\n",
       "0                0.15  {'learning_rate': 0.15}           0.673839   \n",
       "1                 0.2   {'learning_rate': 0.2}           0.674268   \n",
       "2                0.25  {'learning_rate': 0.25}           0.675221   \n",
       "\n",
       "   split1_test_score  mean_test_score  std_test_score  rank_test_score  \n",
       "0           0.674230         0.674034        0.000195                3  \n",
       "1           0.674626         0.674447        0.000179                2  \n",
       "2           0.674869         0.675045        0.000176                1  "
      ]
     },
     "execution_count": 48,
     "metadata": {},
     "output_type": "execute_result"
    }
   ],
   "source": [
    "pd.DataFrame(clf.cv_results_)"
   ]
  },
  {
   "cell_type": "code",
   "execution_count": 50,
   "metadata": {
    "ExecuteTime": {
     "end_time": "2021-09-22T14:50:16.750890Z",
     "start_time": "2021-09-22T14:50:16.735931Z"
    }
   },
   "outputs": [],
   "source": [
    "# pickle.dump(clf, open('./pickle/gbdt_gridsearchcv_Lr.pkl', 'wb'))"
   ]
  },
  {
   "cell_type": "markdown",
   "metadata": {
    "id": "2KwY5W1GxGqd"
   },
   "source": [
    "### Train best GBDT model"
   ]
  },
  {
   "cell_type": "code",
   "execution_count": 54,
   "metadata": {
    "ExecuteTime": {
     "end_time": "2021-09-23T02:30:32.882286Z",
     "start_time": "2021-09-23T02:19:04.189530Z"
    },
    "colab": {
     "base_uri": "https://localhost:8080/",
     "height": 387
    },
    "executionInfo": {
     "elapsed": 164044,
     "status": "error",
     "timestamp": 1631949558240,
     "user": {
      "displayName": "Thomson Choi",
      "photoUrl": "https://lh3.googleusercontent.com/a-/AOh14GijGo5A_JpQxt5NmDkapmn-FRmfqqEpQAVdH1Sq-Rw=s64",
      "userId": "08314397408289494396"
     },
     "user_tz": -480
    },
    "id": "dEQa-g3cwk9x",
    "outputId": "bf42e267-945a-4660-939b-59e1ec3635f3"
   },
   "outputs": [
    {
     "name": "stdout",
     "output_type": "stream",
     "text": [
      "train score: 0.6931\n",
      "test score: 0.679\n"
     ]
    }
   ],
   "source": [
    "from sklearn.ensemble import GradientBoostingClassifier\n",
    "\n",
    "X_train, X_test, y_train, y_test = train_test_split(getX(Xnmf), y, random_state=0)\n",
    "gbdt = GradientBoostingClassifier(learning_rate=0.25, n_estimators=100, max_depth=5)\n",
    "gbdt.fit(X_train, y_train)\n",
    "print('train score:', round(gbdt.score(X_train, y_train),4))\n",
    "print('test score:', round(gbdt.score(X_test, y_test),4))\n",
    "# pickle.dump(gbdt, open('./pickle/best_gbdt.pkl', 'wb'))"
   ]
  },
  {
   "cell_type": "code",
   "execution_count": 322,
   "metadata": {
    "ExecuteTime": {
     "end_time": "2021-09-25T01:05:08.044186Z",
     "start_time": "2021-09-25T01:05:07.167530Z"
    }
   },
   "outputs": [
    {
     "name": "stdout",
     "output_type": "stream",
     "text": [
      "f1_score: 0.6854617265375212\n"
     ]
    }
   ],
   "source": [
    "gbdt=pickle.load(open('./pickle/best_gbdt.pkl', 'rb'))\n",
    "X_train, X_test, y_train, y_test = train_test_split(getX(Xnmf), y, random_state=0)\n",
    "print('f1_score:', f1_score(y_test, gbdt.predict(X_test)))"
   ]
  },
  {
   "cell_type": "code",
   "execution_count": 56,
   "metadata": {
    "ExecuteTime": {
     "end_time": "2021-09-23T02:53:07.937583Z",
     "start_time": "2021-09-23T02:30:32.899241Z"
    }
   },
   "outputs": [
    {
     "name": "stdout",
     "output_type": "stream",
     "text": [
      "train score: 0.709\n",
      "test score: 0.682\n"
     ]
    }
   ],
   "source": [
    "X_train, X_test, y_train, y_test = train_test_split(getX(Xnmf), y, random_state=0)\n",
    "gbdt = GradientBoostingClassifier(learning_rate=0.25, n_estimators=200, max_depth=5)\n",
    "gbdt.fit(X_train, y_train)\n",
    "print('train score:', round(gbdt.score(X_train, y_train),4))\n",
    "print('test score:', round(gbdt.score(X_test, y_test),4))"
   ]
  },
  {
   "cell_type": "code",
   "execution_count": 57,
   "metadata": {
    "ExecuteTime": {
     "end_time": "2021-09-23T02:53:07.967504Z",
     "start_time": "2021-09-23T02:53:07.940576Z"
    }
   },
   "outputs": [],
   "source": [
    "# pickle.dump(gbdt, open('./pickle/best_gbdt_n_est200.pkl', 'wb'))"
   ]
  },
  {
   "cell_type": "code",
   "execution_count": 157,
   "metadata": {
    "ExecuteTime": {
     "end_time": "2021-09-23T11:50:50.616323Z",
     "start_time": "2021-09-23T11:50:49.672847Z"
    }
   },
   "outputs": [
    {
     "name": "stdout",
     "output_type": "stream",
     "text": [
      "f1_score: 0.6863034709992615\n"
     ]
    }
   ],
   "source": [
    "from sklearn.metrics import f1_score\n",
    "\n",
    "gbdt=pickle.load(open('./pickle/best_gbdt_n_est200.pkl', 'rb'))\n",
    "X_train, X_test, y_train, y_test = train_test_split(getX(Xnmf), y, random_state=0)\n",
    "print('f1_score:', f1_score(y_test, gbdt.predict(X_test)))"
   ]
  },
  {
   "cell_type": "markdown",
   "metadata": {
    "id": "QPu_-koDqbY3"
   },
   "source": [
    "## Multilayer Perceptron"
   ]
  },
  {
   "cell_type": "markdown",
   "metadata": {},
   "source": [
    "1. Multilayer Perceptron with Relu activation, 2 layers (20,20)"
   ]
  },
  {
   "cell_type": "code",
   "execution_count": 70,
   "metadata": {
    "ExecuteTime": {
     "end_time": "2021-09-23T03:36:22.387830Z",
     "start_time": "2021-09-23T03:35:53.045784Z"
    },
    "id": "hsFiDzMdqbY3"
   },
   "outputs": [
    {
     "name": "stdout",
     "output_type": "stream",
     "text": [
      "X_train shape: (166707, 106)\n",
      "n iterations: 34\n",
      "train score: 0.6463\n",
      "test score: 0.6446\n"
     ]
    }
   ],
   "source": [
    "from sklearn.neural_network import MLPClassifier\n",
    "\n",
    "X_train, X_test, y_train, y_test = train_test_split(getX(Xnmf), y, random_state=0, train_size=0.4)\n",
    "\n",
    "print('X_train shape:', X_train.shape)\n",
    "\n",
    "nnclf = MLPClassifier(hidden_layer_sizes = (20,20,), solver='adam', activation='relu',\n",
    "                      max_iter=100, early_stopping=True, n_iter_no_change=10, tol=0.0001,\n",
    "                      random_state = 0)\n",
    "\n",
    "nnclf.fit(X_train, y_train)\n",
    "print('n iterations:', nnclf.n_iter_)\n",
    "print('train score:', round(nnclf.score(X_train, y_train),4))\n",
    "print('test score:', round(nnclf.score(X_test, y_test),4))\n",
    "# pickle.dump(nnclf, open('mlp_relu.pkl', 'wb'))"
   ]
  },
  {
   "cell_type": "markdown",
   "metadata": {},
   "source": [
    "2. Multilayer Perceptron with Logistic activation, 2 layers (20,20)"
   ]
  },
  {
   "cell_type": "code",
   "execution_count": 72,
   "metadata": {
    "ExecuteTime": {
     "end_time": "2021-09-23T03:37:21.161210Z",
     "start_time": "2021-09-23T03:36:49.398169Z"
    }
   },
   "outputs": [
    {
     "name": "stdout",
     "output_type": "stream",
     "text": [
      "X_train shape: (166707, 106)\n",
      "n iterations: 62\n",
      "train score: 0.649\n",
      "test score: 0.6465\n"
     ]
    }
   ],
   "source": [
    "from sklearn.neural_network import MLPClassifier\n",
    "\n",
    "X_train, X_test, y_train, y_test = train_test_split(getX(Xnmf), y, random_state=0, train_size=0.4)\n",
    "\n",
    "print('X_train shape:', X_train.shape)\n",
    "\n",
    "nnclf_logis = MLPClassifier(hidden_layer_sizes = (20,20,), solver='adam', activation='logistic',\n",
    "                      max_iter=100, early_stopping=True, n_iter_no_change=10, tol=0.0001,\n",
    "                      random_state = 0)\n",
    "\n",
    "nnclf_logis.fit(X_train, y_train)\n",
    "print('n iterations:', nnclf_logis.n_iter_)\n",
    "print('train score:', round(nnclf_logis.score(X_train, y_train),4))\n",
    "print('test score:', round(nnclf_logis.score(X_test, y_test),4))\n",
    "# pickle.dump(nnclf_logis, open('mlp_logistic.pkl', 'wb'))"
   ]
  },
  {
   "cell_type": "markdown",
   "metadata": {},
   "source": [
    "Multilayer Perceptron with Logistic activation, 2 layers (20,20) achieve better results with no significant difference in training times.  We will take it as the base case to compare different variations in hyperparameters."
   ]
  },
  {
   "cell_type": "code",
   "execution_count": 163,
   "metadata": {
    "ExecuteTime": {
     "end_time": "2021-09-23T12:02:27.566152Z",
     "start_time": "2021-09-23T12:02:27.561166Z"
    }
   },
   "outputs": [],
   "source": [
    "nnclf_logis = pickle.load(open('mlp_logistic.pkl', 'rb'))\n",
    "base_train = nnclf_logis.score(X_train, y_train)\n",
    "base_test = nnclf_logis.score(X_test, y_test)\n",
    "X_train, X_test, y_train, y_test = train_test_split(getX(Xnmf), y, random_state=0, train_size=0.4)\n",
    "base_f1 = f1_score(y_test, nnclf_logis.predict(X_test))"
   ]
  },
  {
   "cell_type": "markdown",
   "metadata": {},
   "source": [
    "### More layers 3 layers"
   ]
  },
  {
   "cell_type": "code",
   "execution_count": 166,
   "metadata": {
    "ExecuteTime": {
     "end_time": "2021-09-23T12:06:26.609447Z",
     "start_time": "2021-09-23T12:06:00.080380Z"
    }
   },
   "outputs": [
    {
     "name": "stdout",
     "output_type": "stream",
     "text": [
      "X_train shape: (166707, 106)\n",
      "n iterations: 40\n",
      "train score: 0.6479 diff: -0.0007\n",
      "test score: 0.6458 diff: -0.0013\n",
      "f1 score: 0.656 diff: 0.0029\n"
     ]
    }
   ],
   "source": [
    "from sklearn.neural_network import MLPClassifier\n",
    "\n",
    "X_train, X_test, y_train, y_test = train_test_split(getX(Xnmf), y, random_state=0, train_size=0.4)\n",
    "\n",
    "print('X_train shape:', X_train.shape)\n",
    "\n",
    "nnclf_logis = MLPClassifier(hidden_layer_sizes = (20,20,20,), solver='adam', activation='logistic',\n",
    "                      max_iter=100, early_stopping=True, n_iter_no_change=10, tol=0.0001,\n",
    "                      random_state = 0)\n",
    "\n",
    "nnclf_logis.fit(X_train, y_train)\n",
    "print('n iterations:', nnclf_logis.n_iter_)\n",
    "print('train score:', round(nnclf_logis.score(X_train, y_train),4), \n",
    "      'diff:', round(nnclf_logis.score(X_train, y_train) - base_train,4))\n",
    "print('test score:', round(nnclf_logis.score(X_test, y_test),4),\n",
    "      'diff:', round(nnclf_logis.score(X_test, y_test) - base_test,4))\n",
    "print('f1 score:', round(f1_score(y_test, nnclf_logis.predict(X_test)),4),\n",
    "      'diff:', round(f1_score(y_test, nnclf_logis.predict(X_test)) - base_f1,4))"
   ]
  },
  {
   "cell_type": "markdown",
   "metadata": {},
   "source": [
    "More layers actually made accuracy go down, but higher F1 score.  Let's try more neurons in each layer with 2 layers."
   ]
  },
  {
   "cell_type": "markdown",
   "metadata": {},
   "source": [
    "### More Neurons 2 layers"
   ]
  },
  {
   "cell_type": "code",
   "execution_count": 167,
   "metadata": {
    "ExecuteTime": {
     "end_time": "2021-09-23T12:07:17.182604Z",
     "start_time": "2021-09-23T12:06:26.611442Z"
    },
    "id": "LQZQ3gLFqbY4"
   },
   "outputs": [
    {
     "name": "stdout",
     "output_type": "stream",
     "text": [
      "X_train shape: (166707, 106)\n",
      "n iterations: 60\n",
      "train score: 0.6491 diff: 0.0006\n",
      "test score: 0.6454 diff: -0.0017\n",
      "f1 score: 0.6419 diff: -0.0111\n"
     ]
    }
   ],
   "source": [
    "from sklearn.neural_network import MLPClassifier\n",
    "\n",
    "X_train, X_test, y_train, y_test = train_test_split(getX(Xnmf), y, random_state=0, train_size=0.4)\n",
    "\n",
    "print('X_train shape:', X_train.shape)\n",
    "\n",
    "nnclf_logis = MLPClassifier(hidden_layer_sizes = (50,50,), solver='adam', activation='logistic',\n",
    "                      max_iter=100, early_stopping=True, n_iter_no_change=10, tol=0.0001,\n",
    "                      random_state = 0)\n",
    "\n",
    "nnclf_logis.fit(X_train, y_train)\n",
    "print('n iterations:', nnclf_logis.n_iter_)\n",
    "print('train score:', round(nnclf_logis.score(X_train, y_train),4), \n",
    "      'diff:', round(nnclf_logis.score(X_train, y_train) - base_train,4))\n",
    "print('test score:', round(nnclf_logis.score(X_test, y_test),4),\n",
    "      'diff:', round(nnclf_logis.score(X_test, y_test) - base_test,4))\n",
    "print('f1 score:', round(f1_score(y_test, nnclf_logis.predict(X_test)),4),\n",
    "      'diff:', round(f1_score(y_test, nnclf_logis.predict(X_test)) - base_f1,4))"
   ]
  },
  {
   "cell_type": "markdown",
   "metadata": {},
   "source": [
    "Both test accuracy and F1 score were lower with more neurons vs base case."
   ]
  },
  {
   "cell_type": "markdown",
   "metadata": {},
   "source": [
    "### More Data: Train size 70%"
   ]
  },
  {
   "cell_type": "code",
   "execution_count": 168,
   "metadata": {
    "ExecuteTime": {
     "end_time": "2021-09-23T12:07:57.671912Z",
     "start_time": "2021-09-23T12:07:17.185596Z"
    }
   },
   "outputs": [
    {
     "name": "stdout",
     "output_type": "stream",
     "text": [
      "X_train shape: (291737, 106)\n",
      "n iterations: 40\n",
      "train score: 0.649 diff: 0.0005\n",
      "test score: 0.6484 diff: 0.0013\n",
      "f1 score: 0.6644 diff: 0.0113\n"
     ]
    }
   ],
   "source": [
    "from sklearn.neural_network import MLPClassifier\n",
    "\n",
    "X_train, X_test, y_train, y_test = train_test_split(getX(Xnmf), y, random_state=0, train_size=0.7)\n",
    "\n",
    "print('X_train shape:', X_train.shape)\n",
    "\n",
    "nnclf_logis = MLPClassifier(hidden_layer_sizes = (20,20,), solver='adam', activation='logistic',\n",
    "                      max_iter=100, early_stopping=True, n_iter_no_change=10, tol=0.0001,\n",
    "                      random_state = 0)\n",
    "\n",
    "nnclf_logis.fit(X_train, y_train)\n",
    "print('n iterations:', nnclf_logis.n_iter_)\n",
    "print('train score:', round(nnclf_logis.score(X_train, y_train),4), \n",
    "      'diff:', round(nnclf_logis.score(X_train, y_train) - base_train,4))\n",
    "print('test score:', round(nnclf_logis.score(X_test, y_test),4),\n",
    "      'diff:', round(nnclf_logis.score(X_test, y_test) - base_test,4))\n",
    "print('f1 score:', round(f1_score(y_test, nnclf_logis.predict(X_test)),4),\n",
    "      'diff:', round(f1_score(y_test, nnclf_logis.predict(X_test)) - base_f1,4))"
   ]
  },
  {
   "cell_type": "markdown",
   "metadata": {},
   "source": [
    "More data was very effective in achieving a higher test accuracy and F1 score.  Let's try again more neurons and more layers."
   ]
  },
  {
   "cell_type": "code",
   "execution_count": 169,
   "metadata": {
    "ExecuteTime": {
     "end_time": "2021-09-23T12:09:55.933745Z",
     "start_time": "2021-09-23T12:07:57.673907Z"
    }
   },
   "outputs": [
    {
     "name": "stdout",
     "output_type": "stream",
     "text": [
      "X_train shape: (291737, 106)\n",
      "n iterations: 68\n",
      "train score: 0.6537 diff: 0.0052\n",
      "test score: 0.6527 diff: 0.0056\n",
      "f1 score: 0.6596 diff: 0.0065\n"
     ]
    }
   ],
   "source": [
    "from sklearn.neural_network import MLPClassifier\n",
    "\n",
    "X_train, X_test, y_train, y_test = train_test_split(getX(Xnmf), y, random_state=0, train_size=0.7)\n",
    "\n",
    "print('X_train shape:', X_train.shape)\n",
    "\n",
    "nnclf_logis = MLPClassifier(hidden_layer_sizes = (50,50,50,), solver='adam', activation='logistic',\n",
    "                      max_iter=100, early_stopping=True, n_iter_no_change=10, tol=0.0001,\n",
    "                      random_state = 0)\n",
    "\n",
    "nnclf_logis.fit(X_train, y_train)\n",
    "print('n iterations:', nnclf_logis.n_iter_)\n",
    "print('train score:', round(nnclf_logis.score(X_train, y_train),4), \n",
    "      'diff:', round(nnclf_logis.score(X_train, y_train) - base_train,4))\n",
    "print('test score:', round(nnclf_logis.score(X_test, y_test),4),\n",
    "      'diff:', round(nnclf_logis.score(X_test, y_test) - base_test,4))\n",
    "print('f1 score:', round(f1_score(y_test, nnclf_logis.predict(X_test)),4),\n",
    "      'diff:', round(f1_score(y_test, nnclf_logis.predict(X_test)) - base_f1,4))"
   ]
  },
  {
   "cell_type": "markdown",
   "metadata": {},
   "source": [
    "With more data, increasing number of neurons and more layers improves accuracy."
   ]
  },
  {
   "cell_type": "code",
   "execution_count": 170,
   "metadata": {
    "ExecuteTime": {
     "end_time": "2021-09-23T12:11:07.674214Z",
     "start_time": "2021-09-23T12:09:55.935740Z"
    }
   },
   "outputs": [
    {
     "name": "stdout",
     "output_type": "stream",
     "text": [
      "X_train shape: (291737, 106)\n",
      "n iterations: 34\n",
      "train score: 0.6489 diff: 0.0004\n",
      "test score: 0.6483 diff: 0.0012\n",
      "f1 score: 0.668 diff: 0.0149\n"
     ]
    }
   ],
   "source": [
    "from sklearn.neural_network import MLPClassifier\n",
    "\n",
    "X_train, X_test, y_train, y_test = train_test_split(getX(Xnmf), y, random_state=0, train_size=0.7)\n",
    "\n",
    "print('X_train shape:', X_train.shape)\n",
    "\n",
    "nnclf_logis = MLPClassifier(hidden_layer_sizes = (50,50,50,50,), solver='adam', activation='logistic',\n",
    "                      max_iter=100, early_stopping=True, n_iter_no_change=10, tol=0.0001,\n",
    "                      random_state = 0)\n",
    "\n",
    "nnclf_logis.fit(X_train, y_train)\n",
    "print('n iterations:', nnclf_logis.n_iter_)\n",
    "print('train score:', round(nnclf_logis.score(X_train, y_train),4), \n",
    "      'diff:', round(nnclf_logis.score(X_train, y_train) - base_train,4))\n",
    "print('test score:', round(nnclf_logis.score(X_test, y_test),4),\n",
    "      'diff:', round(nnclf_logis.score(X_test, y_test) - base_test,4))\n",
    "print('f1 score:', round(f1_score(y_test, nnclf_logis.predict(X_test)),4),\n",
    "      'diff:', round(f1_score(y_test, nnclf_logis.predict(X_test)) - base_f1,4))"
   ]
  },
  {
   "cell_type": "markdown",
   "metadata": {
    "ExecuteTime": {
     "end_time": "2021-09-23T12:17:34.305105Z",
     "start_time": "2021-09-23T12:17:34.291143Z"
    }
   },
   "source": [
    "With even more layers, the test accuracy dropped but F1 score increased."
   ]
  },
  {
   "cell_type": "markdown",
   "metadata": {},
   "source": [
    "### Final MLP Model"
   ]
  },
  {
   "cell_type": "code",
   "execution_count": 172,
   "metadata": {
    "ExecuteTime": {
     "end_time": "2021-09-23T12:17:34.289147Z",
     "start_time": "2021-09-23T12:14:24.524343Z"
    }
   },
   "outputs": [
    {
     "name": "stdout",
     "output_type": "stream",
     "text": [
      "X_train shape: (291737, 106)\n",
      "n iterations: 83\n",
      "train score: 0.6563 diff: 0.0078\n",
      "test score: 0.6557 diff: 0.0086\n",
      "f1 score: 0.6754 diff: 0.0223\n"
     ]
    }
   ],
   "source": [
    "from sklearn.neural_network import MLPClassifier\n",
    "\n",
    "X_train, X_test, y_train, y_test = train_test_split(getX(Xnmf), y, random_state=0, train_size=0.7)\n",
    "\n",
    "print('X_train shape:', X_train.shape)\n",
    "\n",
    "nnclf_logis = MLPClassifier(hidden_layer_sizes = (100,75,50,), solver='adam', activation='logistic',\n",
    "                      max_iter=200, early_stopping=True, n_iter_no_change=10, tol=0.0001,\n",
    "                      random_state = 0)\n",
    "\n",
    "nnclf_logis.fit(X_train, y_train)\n",
    "print('n iterations:', nnclf_logis.n_iter_)\n",
    "print('train score:', round(nnclf_logis.score(X_train, y_train),4), \n",
    "      'diff:', round(nnclf_logis.score(X_train, y_train) - base_train,4))\n",
    "print('test score:', round(nnclf_logis.score(X_test, y_test),4),\n",
    "      'diff:', round(nnclf_logis.score(X_test, y_test) - base_test,4))\n",
    "print('f1 score:', round(f1_score(y_test, nnclf_logis.predict(X_test)),4),\n",
    "      'diff:', round(f1_score(y_test, nnclf_logis.predict(X_test)) - base_f1,4))"
   ]
  },
  {
   "cell_type": "markdown",
   "metadata": {},
   "source": [
    "### MLP conlusion"
   ]
  },
  {
   "cell_type": "markdown",
   "metadata": {},
   "source": [
    "With various iterations of MLP, the most significant improvement in test accuracy was due to increase of training data, and once training data was increased there is positive effects of having a deeper 3-layer network with an increased number of neurons.  When training data was small, accuracy did not increase with an additional layer or more neurons in the layers.\n",
    "The highest F1 score for MLP was achieved by a 3-layer network with (100,75,50) neurons from experiment.\n",
    "\n",
    "However, the MLP model was still inferior to Gradient Boosted Decision Tree with NMF input features.  Therefore our selection would be Gradient Boosted Decision Tree.\n",
    "\n",
    "We will train the Gradient Boosted Decision Tree with the full training data with Word Count vector without dimension reduction or train/test split, in order to produce the final model for submission to kaggle."
   ]
  },
  {
   "cell_type": "markdown",
   "metadata": {},
   "source": [
    "# Model Selection"
   ]
  },
  {
   "cell_type": "markdown",
   "metadata": {},
   "source": [
    "## Final Gradient Boosted Decision Tree"
   ]
  },
  {
   "cell_type": "code",
   "execution_count": 84,
   "metadata": {
    "ExecuteTime": {
     "end_time": "2021-09-23T04:27:53.437640Z",
     "start_time": "2021-09-23T04:21:03.476194Z"
    },
    "collapsed": true
   },
   "outputs": [
    {
     "name": "stdout",
     "output_type": "stream",
     "text": [
      "X shape: (416768, 23959)\n",
      "      Iter       Train Loss   Remaining Time \n",
      "         1           1.3333            7.19m\n",
      "         2           1.3000            7.10m\n",
      "         3           1.2786            7.01m\n",
      "         4           1.2608            6.92m\n",
      "         5           1.2493            6.90m\n",
      "         6           1.2421            6.80m\n",
      "         7           1.2368            6.76m\n",
      "         8           1.2309            6.70m\n",
      "         9           1.2271            6.65m\n",
      "        10           1.2244            6.61m\n",
      "        20           1.2039            6.17m\n",
      "        30           1.1930            5.95m\n",
      "        40           1.1845            5.65m\n",
      "        50           1.1775            5.24m\n",
      "        60           1.1711            4.86m\n",
      "        70           1.1655            4.49m\n",
      "        80           1.1605            4.13m\n",
      "        90           1.1568            3.78m\n",
      "       100           1.1524            3.43m\n",
      "       200           1.1225            0.00s\n"
     ]
    }
   ],
   "source": [
    "gbdt_best = GradientBoostingClassifier(learning_rate=0.25, n_estimators=200, max_depth=5, random_state=0, \n",
    "                                       verbose=1, n_iter_no_change=20, tol=0.0001)\n",
    "X = getX(res)\n",
    "y = df['label']\n",
    "print('X shape:', X.shape)\n",
    "gbdt_best.fit(X, y)\n",
    "pickle.dump(gbdt_best, open('./pickle/gbdt_best.pkl', 'wb'))"
   ]
  },
  {
   "cell_type": "code",
   "execution_count": 87,
   "metadata": {
    "ExecuteTime": {
     "end_time": "2021-09-23T04:30:14.422539Z",
     "start_time": "2021-09-23T04:30:12.660253Z"
    }
   },
   "outputs": [
    {
     "name": "stdout",
     "output_type": "stream",
     "text": [
      "train score: 0.7013\n"
     ]
    }
   ],
   "source": [
    "print('train score:', round(gbdt_best.score(X, y),4))"
   ]
  },
  {
   "cell_type": "markdown",
   "metadata": {},
   "source": [
    "### Feature Importance"
   ]
  },
  {
   "cell_type": "code",
   "execution_count": 263,
   "metadata": {
    "ExecuteTime": {
     "end_time": "2021-09-24T13:37:01.218273Z",
     "start_time": "2021-09-24T13:37:01.175389Z"
    }
   },
   "outputs": [
    {
     "data": {
      "text/plain": [
       "['**Char Count**',\n",
       " 'commune',\n",
       " '**Num Words**',\n",
       " 'ndash',\n",
       " '**AoA Vec**',\n",
       " '**DC Vec**',\n",
       " 'depart',\n",
       " '**Concr Vec**',\n",
       " '**Concr Pct Known**',\n",
       " 'counti']"
      ]
     },
     "execution_count": 263,
     "metadata": {},
     "output_type": "execute_result"
    }
   ],
   "source": [
    "[comb_features[i] for i in np.argsort(-gbdt_best.feature_importances_)[:10]]"
   ]
  },
  {
   "cell_type": "markdown",
   "metadata": {},
   "source": [
    "The features with ** are the engineered features with character and word counts and DC, AoA, Concreteness external datasets.  They turn out to be in the top 10 importance features in the Gradient Boosted Decision Tree model, which is expected because intuition is that they indicate text difficulty and is a vector that takes into account the level of difficulty from the document words.\n",
    "\n",
    "Let's look at the relative importance of the engineered features, and then also a word cloud of the top 100 words excluding these special features."
   ]
  },
  {
   "cell_type": "code",
   "execution_count": 264,
   "metadata": {
    "ExecuteTime": {
     "end_time": "2021-09-24T13:37:06.951937Z",
     "start_time": "2021-09-24T13:37:06.761447Z"
    }
   },
   "outputs": [
    {
     "data": {
      "text/plain": [
       "Text(0.5, 1.0, 'Engineered Feature Importance')"
      ]
     },
     "execution_count": 264,
     "metadata": {},
     "output_type": "execute_result"
    },
    {
     "data": {
      "image/png": "[encoded data removed]",
      "text/plain": [
       "<Figure size 720x432 with 1 Axes>"
      ]
     },
     "metadata": {
      "needs_background": "light"
     },
     "output_type": "display_data"
    }
   ],
   "source": [
    "plt.figure(figsize=(10,6))\n",
    "plt.bar(x=[comb_features[-6:][i] for i in np.argsort(-gbdt_best.feature_importances_[-6:])],\n",
    "        height=sorted(gbdt_best.feature_importances_[-6:], reverse=True))\n",
    "plt.title('Engineered Feature Importance')"
   ]
  },
  {
   "cell_type": "code",
   "execution_count": 235,
   "metadata": {
    "ExecuteTime": {
     "end_time": "2021-09-24T13:26:55.205145Z",
     "start_time": "2021-09-24T13:26:54.704484Z"
    }
   },
   "outputs": [
    {
     "data": {
      "image/png": "[encoded data removed]",
      "text/plain": [
       "<Figure size 864x720 with 1 Axes>"
      ]
     },
     "metadata": {
      "needs_background": "light"
     },
     "output_type": "display_data"
    }
   ],
   "source": [
    "from wordcloud import WordCloud\n",
    "\n",
    "wc=WordCloud()\n",
    "wc.fit_words(dict(zip([comb_features[i] for i in np.argsort(-gbdt_best.feature_importances_[:-6])[:100]],\n",
    " sorted(gbdt_best.feature_importances_[:-6], reverse=True)[:100])))\n",
    "plt.figure(figsize=(12,10))\n",
    "plt.imshow(wc)\n",
    "plt.show()"
   ]
  },
  {
   "cell_type": "markdown",
   "metadata": {},
   "source": [
    "## MLP selected"
   ]
  },
  {
   "cell_type": "code",
   "execution_count": 175,
   "metadata": {
    "ExecuteTime": {
     "end_time": "2021-09-23T13:07:52.484677Z",
     "start_time": "2021-09-23T12:22:07.969663Z"
    },
    "collapsed": true
   },
   "outputs": [
    {
     "name": "stdout",
     "output_type": "stream",
     "text": [
      "X shape: (416768, 23959)\n",
      "Iteration 1, loss = 0.60892893\n",
      "Validation score: 0.685438\n",
      "Iteration 2, loss = 0.57353776\n",
      "Validation score: 0.687262\n",
      "Iteration 3, loss = 0.55661527\n",
      "Validation score: 0.689949\n",
      "Iteration 4, loss = 0.54684635\n",
      "Validation score: 0.683518\n",
      "Iteration 5, loss = 0.53934222\n",
      "Validation score: 0.685342\n",
      "Iteration 6, loss = 0.53379714\n",
      "Validation score: 0.686326\n",
      "Iteration 7, loss = 0.52667018\n",
      "Validation score: 0.681695\n",
      "Iteration 8, loss = 0.52037744\n",
      "Validation score: 0.687573\n",
      "Iteration 9, loss = 0.51337301\n",
      "Validation score: 0.682247\n",
      "Iteration 10, loss = 0.50547704\n",
      "Validation score: 0.685174\n",
      "Iteration 11, loss = 0.49779457\n",
      "Validation score: 0.679392\n",
      "Iteration 12, loss = 0.48972481\n",
      "Validation score: 0.681503\n",
      "Iteration 13, loss = 0.48210240\n",
      "Validation score: 0.680351\n",
      "Iteration 14, loss = 0.47254649\n",
      "Validation score: 0.672625\n",
      "Validation score did not improve more than tol=0.000100 for 10 consecutive epochs. Stopping.\n"
     ]
    }
   ],
   "source": [
    "nnclf_logis_best = MLPClassifier(hidden_layer_sizes = (100,75,50,), solver='adam', activation='logistic',\n",
    "                      max_iter=200, early_stopping=True, n_iter_no_change=10, tol=0.0001,\n",
    "                      random_state = 0, verbose=True)\n",
    "X = getX(res)\n",
    "y = df['label']\n",
    "print('X shape:', X.shape)\n",
    "\n",
    "nnclf_logis_best.fit(X, y)\n",
    "pickle.dump(nnclf_logis_best, open('./pickle/nnclf_logis_best.pkl', 'wb'))"
   ]
  },
  {
   "cell_type": "markdown",
   "metadata": {},
   "source": [
    "# Submission of Prediction to Kaggle"
   ]
  },
  {
   "cell_type": "markdown",
   "metadata": {
    "id": "ePWHhNaRQgTD"
   },
   "source": [
    "## Submit with Gradient Boosted Decision Tree"
   ]
  },
  {
   "cell_type": "code",
   "execution_count": 88,
   "metadata": {
    "ExecuteTime": {
     "end_time": "2021-09-23T04:30:27.909464Z",
     "start_time": "2021-09-23T04:30:27.714985Z"
    },
    "id": "dmjlNciXP2bJ"
   },
   "outputs": [],
   "source": [
    "test_csv = pd.read_csv(root_path + 'WikiLarge_Test.csv')"
   ]
  },
  {
   "cell_type": "code",
   "execution_count": 98,
   "metadata": {
    "ExecuteTime": {
     "end_time": "2021-09-23T04:36:35.667796Z",
     "start_time": "2021-09-23T04:36:35.659818Z"
    },
    "id": "Ck270ldAQoUZ"
   },
   "outputs": [],
   "source": [
    "def combine_data(df):\n",
    "    \n",
    "    vec_s = pickle.load(open(root_path + 'vec_s.pkl', 'rb'))\n",
    "    res_X_sub = vec_s.transform(df['original_text'])\n",
    "\n",
    "    num_words = res_X_sub.sum(axis=1)\n",
    "    res_X_char_count = df['original_text'].map(len).to_numpy().reshape(-1,1) \n",
    "\n",
    "    feature_names = vec_s.get_feature_names()\n",
    "\n",
    "    # Dale Chall\n",
    "    dc_vec = np.ndarray((len(feature_names),1))\n",
    "    stemmed_dc = dc[0].map(stemmer.stem)\n",
    "    for i in range(len(stemmed_dc)):\n",
    "        stemmed_dc[i] = re.sub(r' ', '', stemmed_dc[i])\n",
    "\n",
    "    for i in range(len(feature_names)):\n",
    "        if feature_names[i] in stemmed_dc.tolist():\n",
    "            dc_vec[i] = 1\n",
    "        else:\n",
    "            dc_vec[i] = 0\n",
    "\n",
    "    # Concreteness\n",
    "    concr_vec = np.ndarray((len(feature_names),2))\n",
    "\n",
    "    for i in range(len(feature_names)):\n",
    "        try:\n",
    "            concr_vec[i, 0] = concr.loc[feature_names[i], 'Conc.M']\n",
    "        except:\n",
    "            concr_vec[i, 0] = concr['Conc.M'].mean()\n",
    "        try:\n",
    "            concr_vec[i, 1] = concr.loc[feature_names[i], 'Percent_known']\n",
    "        except:\n",
    "            concr_vec[i, 1] = concr['Percent_known'].mean()\n",
    "\n",
    "    # AoA\n",
    "    aoa_vec = np.ndarray((len(feature_names),1))\n",
    "\n",
    "    for i in range(len(feature_names)):\n",
    "        try:\n",
    "            aoa_vec[i, 0] = aoa.loc[feature_names[i], 'AoA_Kup_lem']\n",
    "        except:\n",
    "            aoa_vec[i, 0] = aoa['AoA_Kup_lem'].mean()\n",
    "\n",
    "#     # Xpca\n",
    "#     clf = TruncatedSVD(100)\n",
    "#     Xpca = clf.fit_transform(res_X_sub)\n",
    "\n",
    "    X = hstack((res_X_sub, num_words, res_X_char_count, \n",
    "            np.nan_to_num(res_X_sub @ dc_vec / num_words, nan=0),\n",
    "            np.nan_to_num(res_X_sub @ concr_vec / num_words, nan=0),\n",
    "            np.nan_to_num(res_X_sub @ aoa_vec / num_words, nan=0)))\n",
    "\n",
    "    return X"
   ]
  },
  {
   "cell_type": "code",
   "execution_count": 99,
   "metadata": {
    "ExecuteTime": {
     "end_time": "2021-09-23T04:36:58.426920Z",
     "start_time": "2021-09-23T04:36:38.051421Z"
    },
    "colab": {
     "base_uri": "https://localhost:8080/",
     "height": 292
    },
    "executionInfo": {
     "elapsed": 260,
     "status": "error",
     "timestamp": 1632016354752,
     "user": {
      "displayName": "Thomson Choi",
      "photoUrl": "https://lh3.googleusercontent.com/a-/AOh14GijGo5A_JpQxt5NmDkapmn-FRmfqqEpQAVdH1Sq-Rw=s64",
      "userId": "08314397408289494396"
     },
     "user_tz": -480
    },
    "id": "W47XfMFsT88P",
    "outputId": "f6f91c7c-5f62-4d6a-9fd6-1999cf12b311"
   },
   "outputs": [],
   "source": [
    "X = combine_data(test_csv)"
   ]
  },
  {
   "cell_type": "code",
   "execution_count": 100,
   "metadata": {
    "ExecuteTime": {
     "end_time": "2021-09-23T04:36:58.442878Z",
     "start_time": "2021-09-23T04:36:58.427918Z"
    }
   },
   "outputs": [
    {
     "name": "stdout",
     "output_type": "stream",
     "text": [
      "(119092, 23959)\n"
     ]
    }
   ],
   "source": [
    "print(X.shape)"
   ]
  },
  {
   "cell_type": "code",
   "execution_count": 101,
   "metadata": {
    "ExecuteTime": {
     "end_time": "2021-09-23T04:37:03.275951Z",
     "start_time": "2021-09-23T04:37:03.257002Z"
    },
    "id": "uSnBeYZJwUrJ"
   },
   "outputs": [
    {
     "data": {
      "text/html": [
       "<div>\n",
       "<style scoped>\n",
       "    .dataframe tbody tr th:only-of-type {\n",
       "        vertical-align: middle;\n",
       "    }\n",
       "\n",
       "    .dataframe tbody tr th {\n",
       "        vertical-align: top;\n",
       "    }\n",
       "\n",
       "    .dataframe thead th {\n",
       "        text-align: right;\n",
       "    }\n",
       "</style>\n",
       "<table border=\"1\" class=\"dataframe\">\n",
       "  <thead>\n",
       "    <tr style=\"text-align: right;\">\n",
       "      <th></th>\n",
       "      <th>id</th>\n",
       "      <th>original_text</th>\n",
       "      <th>label</th>\n",
       "    </tr>\n",
       "  </thead>\n",
       "  <tbody>\n",
       "    <tr>\n",
       "      <th>0</th>\n",
       "      <td>0</td>\n",
       "      <td>-2011</td>\n",
       "      <td>NaN</td>\n",
       "    </tr>\n",
       "    <tr>\n",
       "      <th>1</th>\n",
       "      <td>1</td>\n",
       "      <td>-2011</td>\n",
       "      <td>NaN</td>\n",
       "    </tr>\n",
       "    <tr>\n",
       "      <th>2</th>\n",
       "      <td>2</td>\n",
       "      <td>-2000</td>\n",
       "      <td>NaN</td>\n",
       "    </tr>\n",
       "    <tr>\n",
       "      <th>3</th>\n",
       "      <td>3</td>\n",
       "      <td>-1997</td>\n",
       "      <td>NaN</td>\n",
       "    </tr>\n",
       "    <tr>\n",
       "      <th>4</th>\n",
       "      <td>4</td>\n",
       "      <td>1.636</td>\n",
       "      <td>NaN</td>\n",
       "    </tr>\n",
       "    <tr>\n",
       "      <th>...</th>\n",
       "      <td>...</td>\n",
       "      <td>...</td>\n",
       "      <td>...</td>\n",
       "    </tr>\n",
       "    <tr>\n",
       "      <th>119087</th>\n",
       "      <td>119087</td>\n",
       "      <td>#NAME?</td>\n",
       "      <td>NaN</td>\n",
       "    </tr>\n",
       "    <tr>\n",
       "      <th>119088</th>\n",
       "      <td>119088</td>\n",
       "      <td>#NAME?</td>\n",
       "      <td>NaN</td>\n",
       "    </tr>\n",
       "    <tr>\n",
       "      <th>119089</th>\n",
       "      <td>119089</td>\n",
       "      <td>#NAME?</td>\n",
       "      <td>NaN</td>\n",
       "    </tr>\n",
       "    <tr>\n",
       "      <th>119090</th>\n",
       "      <td>119090</td>\n",
       "      <td>#NAME?</td>\n",
       "      <td>NaN</td>\n",
       "    </tr>\n",
       "    <tr>\n",
       "      <th>119091</th>\n",
       "      <td>119091</td>\n",
       "      <td>#NAME?</td>\n",
       "      <td>NaN</td>\n",
       "    </tr>\n",
       "  </tbody>\n",
       "</table>\n",
       "<p>119092 rows × 3 columns</p>\n",
       "</div>"
      ],
      "text/plain": [
       "            id original_text  label\n",
       "0            0         -2011    NaN\n",
       "1            1         -2011    NaN\n",
       "2            2         -2000    NaN\n",
       "3            3         -1997    NaN\n",
       "4            4         1.636    NaN\n",
       "...        ...           ...    ...\n",
       "119087  119087        #NAME?    NaN\n",
       "119088  119088        #NAME?    NaN\n",
       "119089  119089        #NAME?    NaN\n",
       "119090  119090        #NAME?    NaN\n",
       "119091  119091        #NAME?    NaN\n",
       "\n",
       "[119092 rows x 3 columns]"
      ]
     },
     "execution_count": 101,
     "metadata": {},
     "output_type": "execute_result"
    }
   ],
   "source": [
    "test_csv"
   ]
  },
  {
   "cell_type": "code",
   "execution_count": 104,
   "metadata": {
    "ExecuteTime": {
     "end_time": "2021-09-23T04:38:05.609223Z",
     "start_time": "2021-09-23T04:38:05.123523Z"
    }
   },
   "outputs": [],
   "source": [
    "test_csv.loc[:,'label'] = gbdt_best.predict(X)"
   ]
  },
  {
   "cell_type": "code",
   "execution_count": 108,
   "metadata": {
    "ExecuteTime": {
     "end_time": "2021-09-23T04:38:33.186460Z",
     "start_time": "2021-09-23T04:38:33.171503Z"
    }
   },
   "outputs": [
    {
     "data": {
      "text/plain": [
       "1    61740\n",
       "0    57352\n",
       "Name: label, dtype: int64"
      ]
     },
     "execution_count": 108,
     "metadata": {},
     "output_type": "execute_result"
    }
   ],
   "source": [
    "test_csv['label'].value_counts()"
   ]
  },
  {
   "cell_type": "code",
   "execution_count": 109,
   "metadata": {
    "ExecuteTime": {
     "end_time": "2021-09-23T04:40:08.851635Z",
     "start_time": "2021-09-23T04:40:08.730958Z"
    }
   },
   "outputs": [],
   "source": [
    "test_csv[['id','label']].to_csv('submission.csv', index=False)"
   ]
  },
  {
   "attachments": {
    "image.png": {
     "image/png": "[encoded data removed]"
    }
   },
   "cell_type": "markdown",
   "metadata": {},
   "source": [
    "Score:\n",
    "![image.png](attachment:image.png)"
   ]
  },
  {
   "cell_type": "markdown",
   "metadata": {},
   "source": [
    "## Submit with MLP selected"
   ]
  },
  {
   "cell_type": "code",
   "execution_count": 176,
   "metadata": {
    "ExecuteTime": {
     "end_time": "2021-09-23T13:26:54.310084Z",
     "start_time": "2021-09-23T13:26:33.252396Z"
    }
   },
   "outputs": [],
   "source": [
    "X = combine_data(test_csv)"
   ]
  },
  {
   "cell_type": "code",
   "execution_count": 177,
   "metadata": {
    "ExecuteTime": {
     "end_time": "2021-09-23T13:27:11.161012Z",
     "start_time": "2021-09-23T13:27:10.748117Z"
    }
   },
   "outputs": [],
   "source": [
    "test_csv.loc[:,'label'] = nnclf_logis_best.predict(X)\n",
    "test_csv['label'].value_counts()"
   ]
  },
  {
   "cell_type": "code",
   "execution_count": 179,
   "metadata": {
    "ExecuteTime": {
     "end_time": "2021-09-23T13:27:34.066744Z",
     "start_time": "2021-09-23T13:27:33.940084Z"
    }
   },
   "outputs": [],
   "source": [
    "test_csv[['id','label']].to_csv('submission_MLP.csv', index=False)"
   ]
  },
  {
   "attachments": {
    "image.png": {
     "image/png": "[encoded data removed]"
    }
   },
   "cell_type": "markdown",
   "metadata": {},
   "source": [
    "![image.png](attachment:image.png)\n"
   ]
  },
  {
   "cell_type": "markdown",
   "metadata": {},
   "source": [
    "## More MLP"
   ]
  },
  {
   "cell_type": "markdown",
   "metadata": {},
   "source": [
    "On the Kaggle leadership we see higher accuracy achieved by some teams.  We will try one more MLP with deeper and bigger layers (100,100,100,100,) and trained on the whole training data with word counts combined to length vector features without early stopping.  This is expected to take a long time."
   ]
  },
  {
   "cell_type": "code",
   "execution_count": 180,
   "metadata": {
    "ExecuteTime": {
     "end_time": "2021-09-24T01:18:54.919504Z",
     "start_time": "2021-09-23T13:29:45.844104Z"
    }
   },
   "outputs": [
    {
     "name": "stdout",
     "output_type": "stream",
     "text": [
      "X shape: (416768, 23959)\n",
      "Iteration 1, loss = 0.60716403\n",
      "Iteration 2, loss = 0.57248261\n",
      "Iteration 3, loss = 0.55629208\n",
      "Iteration 4, loss = 0.54778729\n",
      "Iteration 5, loss = 0.54086124\n",
      "Iteration 6, loss = 0.53381557\n",
      "Iteration 7, loss = 0.52716839\n",
      "Iteration 8, loss = 0.51947503\n",
      "Iteration 9, loss = 0.51192559\n",
      "Iteration 10, loss = 0.50377885\n",
      "Iteration 11, loss = 0.49530863\n",
      "Iteration 12, loss = 0.48586223\n",
      "Iteration 13, loss = 0.47660833\n",
      "Iteration 14, loss = 0.46792015\n",
      "Iteration 15, loss = 0.45811594\n",
      "Iteration 16, loss = 0.44997755\n",
      "Iteration 17, loss = 0.44065084\n",
      "Iteration 18, loss = 0.43160185\n",
      "Iteration 19, loss = 0.42175270\n",
      "Iteration 20, loss = 0.41273571\n",
      "Iteration 21, loss = 0.40579887\n",
      "Iteration 22, loss = 0.39576675\n",
      "Iteration 23, loss = 0.38648039\n",
      "Iteration 24, loss = 0.37813602\n",
      "Iteration 25, loss = 0.36937521\n",
      "Iteration 26, loss = 0.36150087\n",
      "Iteration 27, loss = 0.35316454\n",
      "Iteration 28, loss = 0.34641953\n",
      "Iteration 29, loss = 0.33781999\n",
      "Iteration 30, loss = 0.33062839\n",
      "Iteration 31, loss = 0.32409450\n",
      "Iteration 32, loss = 0.31649679\n",
      "Iteration 33, loss = 0.31063314\n",
      "Iteration 34, loss = 0.30493787\n",
      "Iteration 35, loss = 0.29853326\n",
      "Iteration 36, loss = 0.29252970\n",
      "Iteration 37, loss = 0.28792902\n",
      "Iteration 38, loss = 0.28382611\n",
      "Iteration 39, loss = 0.27845094\n",
      "Iteration 40, loss = 0.27200259\n",
      "Iteration 41, loss = 0.26975909\n",
      "Iteration 42, loss = 0.26431361\n",
      "Iteration 43, loss = 0.26088324\n",
      "Iteration 44, loss = 0.25678724\n",
      "Iteration 45, loss = 0.25234828\n",
      "Iteration 46, loss = 0.25035043\n",
      "Iteration 47, loss = 0.24852596\n",
      "Iteration 48, loss = 0.24401616\n",
      "Iteration 49, loss = 0.24048981\n",
      "Iteration 50, loss = 0.23873073\n",
      "Iteration 51, loss = 0.23642922\n",
      "Iteration 52, loss = 0.23308447\n",
      "Iteration 53, loss = 0.23188935\n",
      "Iteration 54, loss = 0.22808492\n",
      "Iteration 55, loss = 0.22629373\n",
      "Iteration 56, loss = 0.22448939\n",
      "Iteration 57, loss = 0.22048022\n",
      "Iteration 58, loss = 0.21826124\n",
      "Iteration 59, loss = 0.21762525\n",
      "Iteration 60, loss = 0.21553465\n",
      "Iteration 61, loss = 0.21352546\n",
      "Iteration 62, loss = 0.21039615\n",
      "Iteration 63, loss = 0.20925032\n",
      "Iteration 64, loss = 0.20736666\n",
      "Iteration 65, loss = 0.20654343\n",
      "Iteration 66, loss = 0.20322795\n",
      "Iteration 67, loss = 0.20320843\n",
      "Iteration 68, loss = 0.20070847\n",
      "Iteration 69, loss = 0.19958170\n",
      "Iteration 70, loss = 0.19851816\n",
      "Iteration 71, loss = 0.19703123\n",
      "Iteration 72, loss = 0.19612243\n",
      "Iteration 73, loss = 0.19443306\n",
      "Iteration 74, loss = 0.19219997\n",
      "Iteration 75, loss = 0.19016825\n",
      "Iteration 76, loss = 0.19115866\n",
      "Iteration 77, loss = 0.18890612\n",
      "Iteration 78, loss = 0.18781692\n",
      "Iteration 79, loss = 0.18704775\n",
      "Iteration 80, loss = 0.18604296\n",
      "Iteration 81, loss = 0.18468347\n",
      "Iteration 82, loss = 0.18369293\n",
      "Iteration 83, loss = 0.18203544\n",
      "Iteration 84, loss = 0.18169579\n",
      "Iteration 85, loss = 0.18116532\n",
      "Iteration 86, loss = 0.18130910\n",
      "Iteration 87, loss = 0.17923627\n",
      "Iteration 88, loss = 0.17981479\n",
      "Iteration 89, loss = 0.17808339\n",
      "Iteration 90, loss = 0.17692534\n",
      "Iteration 91, loss = 0.17596607\n",
      "Iteration 92, loss = 0.17511384\n",
      "Iteration 93, loss = 0.17502418\n",
      "Iteration 94, loss = 0.17420548\n",
      "Iteration 95, loss = 0.17317437\n",
      "Iteration 96, loss = 0.17378629\n",
      "Iteration 97, loss = 0.17282675\n",
      "Iteration 98, loss = 0.17182658\n",
      "Iteration 99, loss = 0.17113979\n",
      "Iteration 100, loss = 0.17197950\n",
      "Iteration 101, loss = 0.17110739\n",
      "Iteration 102, loss = 0.16965936\n",
      "Iteration 103, loss = 0.17027850\n",
      "Iteration 104, loss = 0.17022658\n",
      "Iteration 105, loss = 0.16992779\n",
      "Iteration 106, loss = 0.16895057\n",
      "Iteration 107, loss = 0.16762372\n",
      "Iteration 108, loss = 0.16771360\n",
      "Iteration 109, loss = 0.16725840\n",
      "Iteration 110, loss = 0.16630029\n",
      "Iteration 111, loss = 0.16750761\n",
      "Iteration 112, loss = 0.16625592\n",
      "Iteration 113, loss = 0.16627091\n",
      "Iteration 114, loss = 0.16483076\n",
      "Iteration 115, loss = 0.16445973\n",
      "Iteration 116, loss = 0.16427083\n",
      "Iteration 117, loss = 0.16492533\n",
      "Iteration 118, loss = 0.16513771\n",
      "Iteration 119, loss = 0.16219238\n",
      "Iteration 120, loss = 0.16330499\n",
      "Iteration 121, loss = 0.16353552\n",
      "Iteration 122, loss = 0.16339273\n",
      "Iteration 123, loss = 0.16166112\n",
      "Iteration 124, loss = 0.16271937\n",
      "Iteration 125, loss = 0.16141931\n",
      "Iteration 126, loss = 0.16121449\n",
      "Iteration 127, loss = 0.16114833\n",
      "Iteration 128, loss = 0.16027474\n",
      "Iteration 129, loss = 0.16180212\n",
      "Iteration 130, loss = 0.16003993\n",
      "Iteration 131, loss = 0.16021179\n",
      "Iteration 132, loss = 0.16113772\n",
      "Iteration 133, loss = 0.16011405\n",
      "Iteration 134, loss = 0.15979521\n",
      "Iteration 135, loss = 0.15914380\n",
      "Iteration 136, loss = 0.15853634\n",
      "Iteration 137, loss = 0.15926255\n",
      "Iteration 138, loss = 0.15905429\n",
      "Iteration 139, loss = 0.15860673\n",
      "Iteration 140, loss = 0.15786314\n",
      "Iteration 141, loss = 0.15786583\n",
      "Iteration 142, loss = 0.15756319\n",
      "Iteration 143, loss = 0.15845857\n",
      "Iteration 144, loss = 0.15755045\n",
      "Iteration 145, loss = 0.15896423\n",
      "Iteration 146, loss = 0.15590396\n",
      "Iteration 147, loss = 0.15761743\n",
      "Iteration 148, loss = 0.15746902\n",
      "Iteration 149, loss = 0.15691379\n",
      "Iteration 150, loss = 0.15700530\n",
      "Iteration 151, loss = 0.15635050\n",
      "Iteration 152, loss = 0.15594355\n",
      "Iteration 153, loss = 0.15629821\n",
      "Iteration 154, loss = 0.15554975\n",
      "Iteration 155, loss = 0.15614713\n",
      "Iteration 156, loss = 0.15517084\n",
      "Iteration 157, loss = 0.15499037\n",
      "Iteration 158, loss = 0.15585251\n",
      "Iteration 159, loss = 0.15458149\n",
      "Iteration 160, loss = 0.15479600\n",
      "Iteration 161, loss = 0.15469953\n",
      "Iteration 162, loss = 0.15363355\n",
      "Iteration 163, loss = 0.15538128\n",
      "Iteration 164, loss = 0.15308765\n",
      "Iteration 165, loss = 0.15354947\n",
      "Iteration 166, loss = 0.15316928\n",
      "Iteration 167, loss = 0.15394236\n",
      "Iteration 168, loss = 0.15312263\n",
      "Iteration 169, loss = 0.15420979\n",
      "Iteration 170, loss = 0.15309794\n",
      "Iteration 171, loss = 0.15382831\n",
      "Iteration 172, loss = 0.15318296\n",
      "Iteration 173, loss = 0.15286506\n",
      "Iteration 174, loss = 0.15240570\n",
      "Iteration 175, loss = 0.15270671\n",
      "Iteration 176, loss = 0.15155748\n",
      "Iteration 177, loss = 0.15190456\n",
      "Iteration 178, loss = 0.15249385\n",
      "Iteration 179, loss = 0.15215600\n",
      "Iteration 180, loss = 0.15234872\n",
      "Iteration 181, loss = 0.15174462\n",
      "Iteration 182, loss = 0.15107809\n",
      "Iteration 183, loss = 0.15140528\n",
      "Iteration 184, loss = 0.15255230\n",
      "Iteration 185, loss = 0.15117178\n",
      "Iteration 186, loss = 0.15178117\n",
      "Iteration 187, loss = 0.15126578\n",
      "Iteration 188, loss = 0.15190539\n",
      "Iteration 189, loss = 0.15077709\n",
      "Iteration 190, loss = 0.15047358\n",
      "Iteration 191, loss = 0.15075131\n",
      "Iteration 192, loss = 0.15066481\n",
      "Iteration 193, loss = 0.15062500\n",
      "Iteration 194, loss = 0.15090641\n",
      "Iteration 195, loss = 0.15026085\n",
      "Iteration 196, loss = 0.15034960\n",
      "Iteration 197, loss = 0.15078221\n",
      "Iteration 198, loss = 0.14960002\n",
      "Iteration 199, loss = 0.14937040\n",
      "Iteration 200, loss = 0.14996665\n"
     ]
    }
   ],
   "source": [
    "nnclf_logis_more = MLPClassifier(hidden_layer_sizes = (100,100,100,100,), solver='adam', activation='logistic',\n",
    "#                       max_iter=200, early_stopping=True, n_iter_no_change=10, tol=0.0001,\n",
    "                      random_state = 0, verbose=True)\n",
    "X = getX(res)\n",
    "y = df['label']\n",
    "print('X shape:', X.shape)\n",
    "\n",
    "nnclf_logis_more.fit(X, y)\n",
    "# pickle.dump(nnclf_logis_more, open('./pickle/nnclf_logis_more.pkl', 'wb'))"
   ]
  },
  {
   "cell_type": "code",
   "execution_count": 183,
   "metadata": {
    "ExecuteTime": {
     "end_time": "2021-09-24T12:47:25.957520Z",
     "start_time": "2021-09-24T12:47:23.868109Z"
    }
   },
   "outputs": [
    {
     "data": {
      "text/plain": [
       "0.9600569141584766"
      ]
     },
     "execution_count": 183,
     "metadata": {},
     "output_type": "execute_result"
    }
   ],
   "source": [
    "nnclf_logis_more.score(X, y)"
   ]
  },
  {
   "cell_type": "markdown",
   "metadata": {},
   "source": [
    "We can attempt to see which features have the biggest and smallest weights in the first layer of 100 neurons.  "
   ]
  },
  {
   "cell_type": "code",
   "execution_count": 268,
   "metadata": {
    "ExecuteTime": {
     "end_time": "2021-09-24T13:50:35.766662Z",
     "start_time": "2021-09-24T13:50:35.752700Z"
    }
   },
   "outputs": [
    {
     "data": {
      "text/plain": [
       "[(23959, 100), (100, 100), (100, 100), (100, 100), (100, 1)]"
      ]
     },
     "execution_count": 268,
     "metadata": {},
     "output_type": "execute_result"
    }
   ],
   "source": [
    "[c.shape for c in nnclf_logis_more.coefs_]"
   ]
  },
  {
   "cell_type": "code",
   "execution_count": 279,
   "metadata": {
    "ExecuteTime": {
     "end_time": "2021-09-24T13:54:45.797917Z",
     "start_time": "2021-09-24T13:54:45.774979Z"
    }
   },
   "outputs": [
    {
     "data": {
      "text/plain": [
       "['nd',\n",
       " 'regard',\n",
       " 'hectar',\n",
       " 'univers',\n",
       " 'play',\n",
       " 'van',\n",
       " 'head',\n",
       " 'topic',\n",
       " 'phrase',\n",
       " 'ndash',\n",
       " 'link',\n",
       " 'caribbean',\n",
       " '**DC Vec**',\n",
       " 'southeast',\n",
       " 'link',\n",
       " 'move',\n",
       " 'discov',\n",
       " 'websit',\n",
       " 'commune',\n",
       " 'rout',\n",
       " 'link',\n",
       " 'link',\n",
       " 'sponsor',\n",
       " 'lrb',\n",
       " 'nineteenth',\n",
       " 'commune',\n",
       " 'commune',\n",
       " 'legislatur',\n",
       " 'say',\n",
       " 'potassium',\n",
       " 'malay',\n",
       " 'big',\n",
       " 'rosa',\n",
       " 'shown',\n",
       " 'blossom',\n",
       " 'boat',\n",
       " 'repeat',\n",
       " 'vike',\n",
       " 'discipl',\n",
       " 'ndash',\n",
       " 'link',\n",
       " 'popular',\n",
       " 'link',\n",
       " 'link',\n",
       " 'arizona',\n",
       " 'consecut',\n",
       " 'singer',\n",
       " 'turkey',\n",
       " 'popul',\n",
       " 'pupil',\n",
       " 'ndash',\n",
       " 'forum',\n",
       " 'link',\n",
       " 'link',\n",
       " 'homo',\n",
       " 'england',\n",
       " 'grew',\n",
       " 'chancellor',\n",
       " '**Concr Pct Known**',\n",
       " 'brown',\n",
       " 'admit',\n",
       " 'link',\n",
       " 'thrown',\n",
       " '**DC Vec**',\n",
       " 'websit',\n",
       " 'provinci',\n",
       " 'fi',\n",
       " 'western',\n",
       " 'link',\n",
       " 'twentieth',\n",
       " 'commune',\n",
       " 'short',\n",
       " 'fi',\n",
       " 'rrb',\n",
       " 'politician',\n",
       " 'nationalis',\n",
       " 'sperm',\n",
       " 'link',\n",
       " 'prior',\n",
       " 'manuscript',\n",
       " 'link',\n",
       " 'link',\n",
       " 'municip',\n",
       " 'valera',\n",
       " 'commune',\n",
       " 'divis',\n",
       " '**DC Vec**',\n",
       " 'link',\n",
       " 'link',\n",
       " 'lot',\n",
       " 'divert',\n",
       " 'show',\n",
       " 'link',\n",
       " 'link',\n",
       " 'got',\n",
       " 'fi',\n",
       " 'consist',\n",
       " 'promin',\n",
       " 'amend',\n",
       " 'suggest']"
      ]
     },
     "execution_count": 279,
     "metadata": {},
     "output_type": "execute_result"
    }
   ],
   "source": [
    "[comb_features[i] for i in (np.argmax(nnclf_logis_more.coefs_[0], axis=0))]"
   ]
  },
  {
   "cell_type": "code",
   "execution_count": 280,
   "metadata": {
    "ExecuteTime": {
     "end_time": "2021-09-24T13:55:11.587935Z",
     "start_time": "2021-09-24T13:55:11.566991Z"
    }
   },
   "outputs": [
    {
     "data": {
      "text/plain": [
       "['mile',\n",
       " '**DC Vec**',\n",
       " 'war',\n",
       " 'march',\n",
       " 'exampl',\n",
       " '**Char Count**',\n",
       " 'link',\n",
       " 'current',\n",
       " 'call',\n",
       " 'number',\n",
       " '**Char Count**',\n",
       " 'said',\n",
       " 'lrb',\n",
       " 'locat',\n",
       " '**Char Count**',\n",
       " 'juli',\n",
       " 'depart',\n",
       " 'page',\n",
       " 'head',\n",
       " 'kashmir',\n",
       " '**Char Count**',\n",
       " '**Char Count**',\n",
       " 'north',\n",
       " 'en',\n",
       " 'concept',\n",
       " 'statist',\n",
       " 'competit',\n",
       " 'form',\n",
       " 'ndash',\n",
       " 'center',\n",
       " 'show',\n",
       " 'refer',\n",
       " 'rrb',\n",
       " 'similar',\n",
       " 'north',\n",
       " 'call',\n",
       " 'offer',\n",
       " 'park',\n",
       " 'determin',\n",
       " 'lrb',\n",
       " '**Char Count**',\n",
       " 'lrb',\n",
       " '**Char Count**',\n",
       " '**Char Count**',\n",
       " 'entir',\n",
       " 'went',\n",
       " 'april',\n",
       " 'film',\n",
       " 'art',\n",
       " 'movi',\n",
       " 'use',\n",
       " 'republ',\n",
       " '**Char Count**',\n",
       " '**Char Count**',\n",
       " 'pp',\n",
       " 'histori',\n",
       " 'winner',\n",
       " 'come',\n",
       " 'page',\n",
       " 'page',\n",
       " 'small',\n",
       " '**Char Count**',\n",
       " 'rrb',\n",
       " '**AoA Vec**',\n",
       " 'situat',\n",
       " 'differ',\n",
       " '**Char Count**',\n",
       " 'world',\n",
       " '**Char Count**',\n",
       " 'play',\n",
       " 'countri',\n",
       " 'season',\n",
       " '**Char Count**',\n",
       " '**DC Vec**',\n",
       " 'time',\n",
       " 'annual',\n",
       " 'consist',\n",
       " '**Char Count**',\n",
       " 'potter',\n",
       " 'return',\n",
       " '**Char Count**',\n",
       " '**Char Count**',\n",
       " 'lrb',\n",
       " 'dni',\n",
       " 'club',\n",
       " 'japan',\n",
       " '**Concr Vec**',\n",
       " '**Char Count**',\n",
       " '**Char Count**',\n",
       " 'origin',\n",
       " 'elect',\n",
       " 'common',\n",
       " '**Char Count**',\n",
       " '**Char Count**',\n",
       " 'left',\n",
       " '**Char Count**',\n",
       " 'brand',\n",
       " 'higher',\n",
       " 'footbal',\n",
       " 'born']"
      ]
     },
     "execution_count": 280,
     "metadata": {},
     "output_type": "execute_result"
    }
   ],
   "source": [
    "[comb_features[i] for i in (np.argmin(nnclf_logis_more.coefs_[0], axis=0))]"
   ]
  },
  {
   "cell_type": "markdown",
   "metadata": {},
   "source": [
    "The special features show up esp **Char Count** but it could be because the value is large vs word count since it's not normalized.  This might have impacted the performance of the MLP network that we trained."
   ]
  },
  {
   "cell_type": "markdown",
   "metadata": {},
   "source": [
    "The model took close to 12 hours to train. But we achieved a test score of 96% and a submission to kaggle resulted in a 72.98% accuracy which was the best of all models done before.  I believe that with more neurons and deeper layers, and further fine tuning of hyperparameters, a higher accuracy score can be achieved, as shown by this trial.  \n",
    "\n",
    "Throughout this project, it reveals that a model such as Gradient Boosted Decision Tree is very fast to train for the size of data and achieves a decent outcome, and therefore is good return vs the time and computing power needed.  A neural network like multilayer perceptron however achieves a superior accuracy but comes at a cost of much longer computing time and resources.  It is also shown to improve significantly with more data."
   ]
  },
  {
   "cell_type": "code",
   "execution_count": 185,
   "metadata": {
    "ExecuteTime": {
     "end_time": "2021-09-24T12:49:01.926359Z",
     "start_time": "2021-09-24T12:48:40.523607Z"
    }
   },
   "outputs": [
    {
     "data": {
      "text/plain": [
       "0    62049\n",
       "1    57043\n",
       "Name: label, dtype: int64"
      ]
     },
     "execution_count": 185,
     "metadata": {},
     "output_type": "execute_result"
    }
   ],
   "source": [
    "X = combine_data(test_csv)\n",
    "test_csv.loc[:,'label'] = nnclf_logis_more.predict(X)\n",
    "test_csv['label'].value_counts()"
   ]
  },
  {
   "cell_type": "code",
   "execution_count": 186,
   "metadata": {
    "ExecuteTime": {
     "end_time": "2021-09-24T12:49:04.274079Z",
     "start_time": "2021-09-24T12:49:04.170357Z"
    }
   },
   "outputs": [],
   "source": [
    "test_csv[['id','label']].to_csv('submission_MLP_more.csv', index=False)"
   ]
  },
  {
   "attachments": {
    "image.png": {
     "image/png": "[encoded data removed]"
    }
   },
   "cell_type": "markdown",
   "metadata": {},
   "source": [
    "![image.png](attachment:image.png)"
   ]
  }
 ],
 "metadata": {
  "colab": {
   "collapsed_sections": [
    "POV-ihcxxDDS",
    "sDpTcdJq6Js0",
    "TSMxRjedw0by",
    "QPu_-koDqbY3"
   ],
   "name": "data_explore.ipynb",
   "provenance": [],
   "toc_visible": true
  },
  "interpreter": {
   "hash": "b3ba2566441a7c06988d0923437866b63cedc61552a5af99d1f4fb67d367b25f"
  },
  "kernelspec": {
   "display_name": "Python 3",
   "language": "python",
   "name": "python3"
  },
  "language_info": {
   "codemirror_mode": {
    "name": "ipython",
    "version": 3
   },
   "file_extension": ".py",
   "mimetype": "text/x-python",
   "name": "python",
   "nbconvert_exporter": "python",
   "pygments_lexer": "ipython3",
   "version": "3.8.5"
  },
  "toc": {
   "base_numbering": 1,
   "nav_menu": {},
   "number_sections": true,
   "sideBar": true,
   "skip_h1_title": false,
   "title_cell": "Table of Contents",
   "title_sidebar": "Contents",
   "toc_cell": false,
   "toc_position": {
    "height": "calc(100% - 180px)",
    "left": "10px",
    "top": "150px",
    "width": "302.797px"
   },
   "toc_section_display": true,
   "toc_window_display": true
  }
 },
 "nbformat": 4,
 "nbformat_minor": 1
}
